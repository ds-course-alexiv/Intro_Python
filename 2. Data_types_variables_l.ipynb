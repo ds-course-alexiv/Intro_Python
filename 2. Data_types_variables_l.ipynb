{
 "cells": [
  {
   "cell_type": "markdown",
   "metadata": {},
   "source": [
    "# Типы данных и переменные\n",
    "\n",
    "**Лекция**\n",
    "1. Стандарты PEP20, PEP8\n",
    "2. Базовые типы данных\n",
    "3. Основы синтаксиса\n",
    "4. Стандарты PEP и Рекомендации по наименованию перемернных\n",
    "5. Работа с ошибками и исключениями\n",
    "\n",
    "**Практика** \n",
    "1. Выполнение базовых математических операций\n",
    "2. Расширение функционала языка с помощью библиотек \n",
    "3. Вывод данных на печать\n",
    "\n",
    "**Результаты обучения:**\n",
    "\n",
    "* Знакомство с основами синтаксиса языка\n",
    "* Объявление и наименование переменных согласно конвенции \n",
    "* Понимание основных типов данных в Python \n",
    "* Выполнение проверки и преобразований данных из одного типа в другой\n",
    "* Понимание стандартов PEP20, PEP8\n",
    "* Интерпретация и устранение синтаксических ошибок и исключений в коде"
   ]
  },
  {
   "cell_type": "markdown",
   "metadata": {},
   "source": [
    "## Фундаментальные принципы языка Python\n",
    "\n",
    "Стандарт [PEP20 - The Zen of Python](https://peps.python.org/pep-0020/)\n",
    "\n",
    "1. Красивое лучше уродливого.\n",
    "2. Явное лучше неявного.\n",
    "3. Простое лучше сложного.\n",
    "4. Сложное лучше запутанного.\n",
    "5. Развернутое лучше вложенного.\n",
    "6. Разреженное лучше плотного.\n",
    "7. Читаемость имеет значение.\n",
    "8. Особые случаи не настолько особые, чтобы нарушать правила.\n",
    "9. При этом практичность важнее безупречности.\n",
    "10. Ошибки не должны замалчиваться.\n",
    "11. Если не замалчиваются явно.\n",
    "12. Встретив избыточность или двусмысленность, отбрось искушение угадать.\n",
    "13. Должен существовать один - и, желательно, только один - очевидный способ сделать что-то.\n",
    "14. Хотя этот способ поначалу может быть и не очевиден, если вы не голландец.\n",
    "15. Сейчас лучше, чем никогда.\n",
    "16. Хотя никогда часто лучше, чем *прямо* сейчас.\n",
    "17. Если реализацию сложно объяснить - идея точно плоха.\n",
    "18. Если реализацию легко объяснить - возможно, идея хороша.\n",
    "19. Пространства имен - отличная штука! Будем использовать их чаще!\n"
   ]
  },
  {
   "cell_type": "markdown",
   "metadata": {},
   "source": [
    "\n",
    "Внимательный читатель воскликнет - \"Так их же 19!\". В этом заключается философский подтекст - Никакие правила не возводить в абсолют. Здесь каждый может определить для себя свой принцип и будет прав.\n",
    "\n",
    "[Примеры](https://gist.github.com/evandrix/2030615)"
   ]
  },
  {
   "cell_type": "markdown",
   "metadata": {},
   "source": [
    "## Cтандарт [PEP8](https://peps.python.org/pep-0008/)\n",
    "\n",
    "* Длина строки не должна превышать 79 символов для удобства чтения. Рекомендуетя использовать переносы и огранияиться 72 символами.\n",
    "\n",
    "    ```Python\n",
    "    with open('/path/to/some/file/you/want/to/read') as file_1, \\\n",
    "        open('/path/to/some/file/being/written', 'w') as file_2:\n",
    "        file_2.write(file_1.read())\n",
    "    ```\n",
    "* Импорт каждого пакета должен быть в отдельной строке\n",
    "    ```Python\n",
    "    # Correct:\n",
    "    import os\n",
    "    import sys\n",
    "    ```\n",
    "    ```Python\n",
    "    # Incorrect:\n",
    "    import os, sys\n",
    "    ```\n",
    "* Рекомендуется использовать абсолютный импорт, поскольку он обычно более удобочитаем и, как правило, ведет себя лучше (или, по крайней мере, выдает более четкие сообщения об ошибках) \n",
    "\n",
    "    ```Python\n",
    "    import mypkg.sibling\n",
    "    from mypkg import sibling\n",
    "    from mypkg.sibling import example\n",
    "    ```"
   ]
  },
  {
   "cell_type": "markdown",
   "metadata": {},
   "source": [
    "## Базовые типы данных"
   ]
  },
  {
   "cell_type": "markdown",
   "metadata": {},
   "source": [
    "По  одной  из  классификаций  типов  python  делятся  на  атомарные  и  ссылочные.  Атомарные \n",
    "объекты, при их присваивании, передаются по значению, а ссылочные — по ссылке\n",
    "Атомарные:\n",
    "*  Числа\n",
    "*  Строки\n",
    "\n",
    "*Ссылочные:*\n",
    "* Списки\n",
    "* Кортежи\n",
    "* Словари\n",
    "* Функции\n",
    "* Классы\n"
   ]
  },
  {
   "cell_type": "markdown",
   "metadata": {},
   "source": [
    "### **Классификация типов данных в Python**\n",
    "\n",
    "Тип данных | назначение | Изменяемость | Класс |\tПример\n",
    "--- | --- |  :---: |  :---: |  :---\n",
    "Целое число <br>integer       | хранение числовых данных | нет  | int   | 73<br> 0\n",
    "Число с плавающей точкой <br>Floating-point number | хранение числовых данных | нет  | float\t| 3.14 <br>-2.71982\n",
    "Строка <br>string       |  хранение строковых данных<br> напр. HTML код| нет \t| str   | \"Hello World\" <br>'5'\n",
    "Логический <br>Logical  | хранения значений <br>алгебры логики - 'истина' или 'ложь   | нет \t| bool\t| True<br>False\n",
    "Лист <br>lists          | упорядоченные массивы данных | yes  | list\t| [ 1, 2, 3 ]\n",
    "Кортеж <br>Tuples       | массив упорядоченных констант | no\t| tuple | ( 'a', 'b',  'c' )\n",
    "Словарь <br>Dictionaries |специализированный массив, <br>состоящий из пар 'ключ':'значение'.  | yes\t| dict  | { 'a':1, 'b':2 }\n",
    "Множество <br>Sets      | массивы неупорядоченных данных | yes\t| set\t| { 'a', 1, 'a', 2 }\n",
    "\n",
    " \n",
    "Проверка типа данных произовольной переменной 'x' возможна с помоью команды type(x)"
   ]
  },
  {
   "cell_type": "markdown",
   "metadata": {},
   "source": [
    "## Основы синтаксиса"
   ]
  },
  {
   "cell_type": "markdown",
   "metadata": {},
   "source": [
    "### **Арифметические операции** Arithmetic operations\n",
    "\n",
    "Операции | Комментарий\n",
    "--- | --\n",
    "a + b <br>a – b <br>a * b <br>a / b | сложение <br>вычитаниe <br>умножение <br>деление\n",
    "a // b <br>a % b | деление с округлением вниз <br>модуль (остатки)\n",
    "a ** b |степень"
   ]
  },
  {
   "cell_type": "markdown",
   "metadata": {},
   "source": [
    "### **Приоритет арифметических операторов** Arithmetic operations priority\n",
    "\n",
    "1. $\\text**$   *наивысший*\n",
    "2. $\\text*, /, //, %$ *средний*\n",
    "3. $\\text + , - $ *наименьший*"
   ]
  },
  {
   "cell_type": "markdown",
   "metadata": {},
   "source": [
    "### **Булевы сравнения** (boolean comparison)\n",
    "\n",
    "Операции | Комментарий\n",
    "--- | ---\n",
    "a == b <br>a != b | a равно b <br>a не равно b   \n",
    "a < b <br>a > b| a меньше b <br>a больше b\n",
    "a <= b <br>a >= b| a меньше или равно b <br>a больше или равно b\n",
    "a < b <= c | сравнения диапазонов"
   ]
  },
  {
   "cell_type": "markdown",
   "metadata": {},
   "source": [
    "### **Операторы присваивания**\n",
    "\n",
    "Операции | Комментарий\n",
    "--- | ---\n",
    "a = 4 | a ссылается на сущность 4\n",
    "a = b | a теперь ссылается на тот же объект, что и идентификатор b\n",
    "a += 2 |оператор присваивания a = a + 2\n",
    "a := b * c | выражения присваивания"
   ]
  },
  {
   "cell_type": "markdown",
   "metadata": {},
   "source": [
    "## Рекомендации по наименованию перемернных"
   ]
  },
  {
   "cell_type": "markdown",
   "metadata": {},
   "source": [
    "\n",
    "* **Используйте описательные и содержательные имена**: имена переменных должны четко указывать на назначение переменной. Это делает код более удобным для чтения и понимания. Избегайте использования отдельных букв или сокращений, если они не являются общепринятыми.\n",
    "* **Соблюдайте соглашение snake_case**: используйте строчные буквы и разделяйте слова подчеркиваниями (например, user_name, total_count). Это наиболее распространенный и рекомендуемый стиль в Python.\n",
    "* **Будьте последовательны**: придерживайтесь единого соглашения об именовании во всей кодовой базе.\n",
    "* **Избегайте зарезервированных ключевых слов (и имен встроенных модулей)**: не используйте ключевые слова Python (например, `for`, `while`, `Pandas`, `Numpy`,..) в качестве имен переменных. \n",
    "* **Не начинайте с цифр**: имена переменных не могут начинаться с цифры.\n",
    "* **Используйте только буквенно-цифровые символы и подчеркивания**: имена переменных могут содержать только буквы, цифры и подчеркивания.\n",
    "* **Помните о чувствительности к регистру**: Python чувствителен к регистру, поэтому myVariable и myvariable — это разные переменные.\n",
    "* **Избегайте однобуквенных имен (за исключением счетчиков циклов)**: однобуквенные имена могут быть неоднозначными и затруднять понимание кода. Однако они приемлемы для счетчиков циклов (например, `i`, `j`, `k`).\n",
    "* **Используйте множественное число для коллекций**: если переменная содержит коллекцию элементов (например, список или кортеж), используйте множественное число (например, пользователи, продукты).\n",
    "* **Используйте константы для фиксированных значений**: если переменная содержит значение, которое не должно меняться, используйте заглавные буквы с подчеркиваниями (например, `MAX_SIZE`, `PI`).\n",
    "* **Будьте кратки, но понятны**: имена переменных должны быть максимально короткими, но при этом описательными.\n",
    "* **Избегайте отрицаний в именах**: вместо `is_not_found` предпочитайте `is_found` и отрицайте его при необходимости.\n",
    "* **Используйте комментарии для пояснения сложных имен**: если имя переменной все еще неясно, добавьте комментарий, чтобы объяснить ее назначение. Следуйте существующим соглашениям: если вы работаете над проектом с существующим кодом, следуйте уже используемым соглашениям об именовании.\n",
    "* **Избегайте слишком похожих имен**: убедитесь, что имена переменных достаточно различимы, чтобы избежать путаницы.\n",
    "* **Учитывайте область действия переменной**: для переменных с ограниченной областью действия могут быть приемлемы более короткие имена. Для переменных с более широкой областью действия рекомендуются более описательные имена.."
   ]
  },
  {
   "cell_type": "markdown",
   "metadata": {},
   "source": [
    "## Работа с ошибками в коде\n",
    "\n",
    "Ошибки - часть работы программиста. \n",
    "\n",
    "Ошибки Python можно в целом разделить на три типа: синтаксические ошибки, ошибки времени выполнения (исключения) и логические ошибки.\n",
    "* **Ошибки синтаксиса:** \n",
    "\n",
    "    Они возникают, когда код нарушает правила синтаксиса Python, не давая интерпретатору понять код.\n",
    "\n",
    "    * `SyntaxError`: Указывает на общую проблему синтаксиса, например, пропущенное двоеточие или неправильный оператор.\n",
    "     \n",
    "    * `IndentationError` -  отступы кода непоследовательны, что имеет решающее значение в Python.\n",
    "\n",
    "* **Ошибки времени выполнения (исключения):**\n",
    "\n",
    "    Эти ошибки возникают во время выполнения программы, часто из-за непредвиденных ситуаций. В Python есть встроенные исключения для их обработки:\n",
    "    \n",
    "    * `NameError` -  переменная используется без определения.\n",
    "    \n",
    "    * `TypeError` -  операция выполняется над объектом несоответствующего типа.\n",
    "    * `ValueError` -  функция получает аргумент правильного типа, но несоответствующее значение.\n",
    "    * `IndexError` -  при попытке доступа к индексу, который находится вне диапазона в последовательности (например, список, кортеж).\n",
    "    * `AttributeError` -  при попытке доступа к атрибуту или методу, которого нет у объекта.\n",
    "    * `ZeroDivisionError` -  при делении на ноль.\n",
    "    * `FileNotFoundError` -  при попытке доступа к несуществующему файлу.\n",
    "    * `ModuleNotFoundError` -  оператор импорта не может найти указанный модуль.\n",
    "    * `ImportError`: Общая ошибка при сбое импорта модуля.\n",
    "    * `MemoryError` -  операция исчерпывает память.\n",
    "    * `AssertionError` -  оператор утверждения не выполняется.\n",
    "    * `KeyError` -  при попытке доступа к ключу, которого нет в словаре.\n",
    "    \n",
    "* **Логические ошибки:**\n",
    "\n",
    "    Их сложнее всего обнаружить, поскольку код выполняется без сбоев, но выдает неверные результаты из-за некорректной логики. Важно обрабатывать исключения с помощью блоков try-except, чтобы предотвратить завершение программы и корректно управлять ошибками.\n",
    "\n",
    "[Официальная докуменитация по работе с ошибками](https://docs.python.org/3/tutorial/errors.html) содержит сложную, но подробную справку.Упрощённый подход к анализу ошибок в IDE:\n",
    "\n",
    "* Прочитать, перевести и осознать тип и описание ошибки\n",
    "\n",
    "* Найти номер строки и ячейки, в которой наблюдается ошибка"
   ]
  },
  {
   "cell_type": "code",
   "execution_count": null,
   "metadata": {},
   "outputs": [
    {
     "ename": "NameError",
     "evalue": "name 'variable' is not defined",
     "output_type": "error",
     "traceback": [
      "\u001b[1;31m---------------------------------------------------------------------------\u001b[0m\n",
      "\u001b[1;31mNameError\u001b[0m                                 Traceback (most recent call last)\n",
      "Cell \u001b[1;32mIn[1], line 1\u001b[0m\n",
      "\u001b[1;32m----> 1\u001b[0m \u001b[43mvariable\u001b[49m\n",
      "\n",
      "\u001b[1;31mNameError\u001b[0m: name 'variable' is not defined"
     ]
    }
   ],
   "source": [
    "variable"
   ]
  },
  {
   "cell_type": "code",
   "execution_count": null,
   "metadata": {},
   "outputs": [
    {
     "ename": "ModuleNotFoundError",
     "evalue": "No module named 'optuna'",
     "output_type": "error",
     "traceback": [
      "\u001b[1;31m---------------------------------------------------------------------------\u001b[0m\n",
      "\u001b[1;31mModuleNotFoundError\u001b[0m                       Traceback (most recent call last)\n",
      "Cell \u001b[1;32mIn[7], line 1\u001b[0m\n",
      "\u001b[1;32m----> 1\u001b[0m \u001b[38;5;28;01mimport\u001b[39;00m \u001b[38;5;21;01moptuna\u001b[39;00m\n",
      "\n",
      "\u001b[1;31mModuleNotFoundError\u001b[0m: No module named 'optuna'"
     ]
    }
   ],
   "source": [
    "# нет модуля\n",
    "import optuna"
   ]
  },
  {
   "cell_type": "code",
   "execution_count": null,
   "metadata": {},
   "outputs": [
    {
     "ename": "ZeroDivisionError",
     "evalue": "division by zero",
     "output_type": "error",
     "traceback": [
      "\u001b[1;31m---------------------------------------------------------------------------\u001b[0m\n",
      "\u001b[1;31mZeroDivisionError\u001b[0m                         Traceback (most recent call last)\n",
      "Cell \u001b[1;32mIn[8], line 1\u001b[0m\n",
      "\u001b[1;32m----> 1\u001b[0m \u001b[38;5;241;43m1\u001b[39;49m\u001b[43m \u001b[49m\u001b[38;5;241;43m/\u001b[39;49m\u001b[43m \u001b[49m\u001b[38;5;241;43m0\u001b[39;49m\n",
      "\n",
      "\u001b[1;31mZeroDivisionError\u001b[0m: division by zero"
     ]
    }
   ],
   "source": [
    "# деление на ноль\n",
    "1 / 0"
   ]
  },
  {
   "cell_type": "markdown",
   "metadata": {},
   "source": [
    "# Практика"
   ]
  },
  {
   "cell_type": "markdown",
   "metadata": {},
   "source": [
    "## Объявление переменнных"
   ]
  },
  {
   "cell_type": "code",
   "execution_count": null,
   "metadata": {},
   "outputs": [
    {
     "name": "stdout",
     "output_type": "stream",
     "text": [
      "4 0\n"
     ]
    }
   ],
   "source": [
    "a = 4\n",
    "b = 0\n",
    "print(a,b) # Мой комментарий к коду"
   ]
  },
  {
   "cell_type": "markdown",
   "metadata": {},
   "source": [
    "### Оператор присвоения сложения (addition assignment operator)\n",
    "Оператор += в Python — это сокращенный способ добавить значение к переменной и присвоить результат обратно той же переменной. Он известен как «оператор присваивания сложения» или «добавление на месте»."
   ]
  },
  {
   "cell_type": "code",
   "execution_count": null,
   "metadata": {},
   "outputs": [
    {
     "name": "stdout",
     "output_type": "stream",
     "text": [
      "6 6\n"
     ]
    }
   ],
   "source": [
    "a += 2\n",
    "b = a\n",
    "print(a,b)"
   ]
  },
  {
   "cell_type": "markdown",
   "metadata": {},
   "source": [
    "### Объявление нескольких переменных в строку"
   ]
  },
  {
   "cell_type": "code",
   "execution_count": 9,
   "metadata": {},
   "outputs": [
    {
     "name": "stdout",
     "output_type": "stream",
     "text": [
      "4 0\n"
     ]
    }
   ],
   "source": [
    "a = 4\n",
    "b = 0\n",
    "print(a,b) # Мой комментарий к коду"
   ]
  },
  {
   "cell_type": "markdown",
   "metadata": {},
   "source": [
    "Нижняя запись эквивалентна верхней, но **экономит строку**"
   ]
  },
  {
   "cell_type": "code",
   "execution_count": null,
   "metadata": {},
   "outputs": [],
   "source": [
    "a, b = 4, 0\n",
    "print(a,b) # Мой комментарий к коду"
   ]
  },
  {
   "cell_type": "markdown",
   "metadata": {},
   "source": [
    "## Вывод значений переменных  \n",
    "\n",
    "Функция print() позволяет выводить значения переменных в консоль. \n",
    "* базовый `print('Hello World')`"
   ]
  },
  {
   "cell_type": "code",
   "execution_count": null,
   "metadata": {},
   "outputs": [
    {
     "name": "stdout",
     "output_type": "stream",
     "text": [
      "Hello World\n",
      "Hello World\n",
      "Hello World\n"
     ]
    }
   ],
   "source": [
    "print('Hello World')"
   ]
  },
  {
   "cell_type": "markdown",
   "metadata": {},
   "source": [
    "## Динамическая типизация"
   ]
  },
  {
   "cell_type": "markdown",
   "metadata": {},
   "source": [
    "В Python переменная может менять тип данных во время выполнения программы.\n",
    "\n",
    "**Динамическая типизация**— приём, используемый в языках программирования и языках спецификации, при котором переменная связывается с типом в момент присваивания значения, а не в момент объявления переменной. Таким образом, в различных участках программы одна и та же переменная может принимать значения разных типов. Примеры языков с динамической типизацией — Python, Objective-C, Ruby, PHP, Perl, JavaScript."
   ]
  },
  {
   "cell_type": "code",
   "execution_count": 2,
   "metadata": {},
   "outputs": [
    {
     "name": "stdout",
     "output_type": "stream",
     "text": [
      "10 \t <class 'int'>\n",
      "десять \t <class 'str'>\n"
     ]
    }
   ],
   "source": [
    "# Мой комментарий к коду\n",
    "var = 10\n",
    "print(var, '\\t', type(var))\n",
    "\n",
    "var = 'десять' # строка\n",
    "print(var,  '\\t',type(var))"
   ]
  },
  {
   "cell_type": "code",
   "execution_count": 4,
   "metadata": {},
   "outputs": [
    {
     "name": "stdout",
     "output_type": "stream",
     "text": [
      "[1, 2, 3] \t <class 'list'>\n",
      "123 \t\t <class 'int'>\n"
     ]
    }
   ],
   "source": [
    "data = [1, 2, 3]\n",
    "print(data, '\\t', type(data))\n",
    "\n",
    "data = 123\n",
    "print(data, '\\t\\t', type(data))"
   ]
  },
  {
   "cell_type": "code",
   "execution_count": null,
   "metadata": {},
   "outputs": [
    {
     "name": "stdout",
     "output_type": "stream",
     "text": [
      "a string\n"
     ]
    }
   ],
   "source": [
    "# this is a comment\n",
    "x = 'a string' # quotes\n",
    "print(x)"
   ]
  },
  {
   "cell_type": "code",
   "execution_count": null,
   "metadata": {},
   "outputs": [
    {
     "name": "stdout",
     "output_type": "stream",
     "text": [
      "[1, 2, 3]\n"
     ]
    }
   ],
   "source": [
    "x = [1,2,3]\n",
    "print(x)\n",
    "print(type(x))"
   ]
  },
  {
   "cell_type": "code",
   "execution_count": null,
   "metadata": {},
   "outputs": [
    {
     "name": "stdout",
     "output_type": "stream",
     "text": [
      "19\n"
     ]
    }
   ],
   "source": [
    "x = 19\n",
    "print(x)\n",
    "print(type(x))"
   ]
  },
  {
   "cell_type": "markdown",
   "metadata": {},
   "source": [
    "## Определение типов данных\n",
    "\n",
    "Функция `type()` позволяет узнать тип данных переменной.\n"
   ]
  },
  {
   "cell_type": "code",
   "execution_count": null,
   "metadata": {},
   "outputs": [
    {
     "name": "stdout",
     "output_type": "stream",
     "text": [
      "<class 'int'>\n",
      "<class 'float'>\n",
      "<class 'str'>\n",
      "<class 'bool'>\n"
     ]
    }
   ],
   "source": [
    "x = 42\n",
    "y = 3.14\n",
    "z = \"Hello\"\n",
    "a = True\n",
    "\n",
    "print(type(x))\n",
    "print(type(y))\n",
    "print(type(z))\n",
    "print(type(a))"
   ]
  },
  {
   "cell_type": "code",
   "execution_count": null,
   "metadata": {},
   "outputs": [],
   "source": [
    "d = [1, 2, 3]\n",
    "print(type(d))  # list"
   ]
  },
  {
   "cell_type": "markdown",
   "metadata": {},
   "source": [
    "Разница между `print(type(x))` и `type(a)`"
   ]
  },
  {
   "cell_type": "code",
   "execution_count": 5,
   "metadata": {},
   "outputs": [
    {
     "name": "stdout",
     "output_type": "stream",
     "text": [
      "<class 'bool'>\n"
     ]
    },
    {
     "data": {
      "text/plain": [
       "bool"
      ]
     },
     "execution_count": 5,
     "metadata": {},
     "output_type": "execute_result"
    }
   ],
   "source": [
    "print(type(a))\n",
    "type(a)"
   ]
  },
  {
   "cell_type": "code",
   "execution_count": null,
   "metadata": {},
   "outputs": [
    {
     "name": "stdout",
     "output_type": "stream",
     "text": [
      "<class 'float'>\n"
     ]
    }
   ],
   "source": [
    "import math\n",
    "b = math.pi\n",
    "print(b)\n",
    "print(type(b))"
   ]
  },
  {
   "cell_type": "markdown",
   "metadata": {},
   "source": [
    "## Преобразование типов данных\n",
    "\n",
    "В Python можно преобразовывать типы данных с помощью функций int(), float(), str() и других. \n"
   ]
  },
  {
   "cell_type": "code",
   "execution_count": null,
   "metadata": {},
   "outputs": [],
   "source": [
    "num_str = '123'\n",
    "num = int(num_str)\n",
    "print(num)  # 123"
   ]
  },
  {
   "cell_type": "code",
   "execution_count": null,
   "metadata": {},
   "outputs": [],
   "source": [
    "pi = 3.14\n",
    "pi_str = str(pi)\n",
    "print(pi_str)  # '3.14'"
   ]
  },
  {
   "cell_type": "code",
   "execution_count": null,
   "metadata": {},
   "outputs": [],
   "source": [
    "flag = True\n",
    "flag_int = int(flag)\n",
    "print(flag_int)  # 1"
   ]
  },
  {
   "cell_type": "markdown",
   "metadata": {},
   "source": [
    "## Создание и обновление переменных\n",
    "\n",
    "Переменные создаются при первом присваивании и могут быть изменены позже.\n",
    "\n"
   ]
  },
  {
   "cell_type": "code",
   "execution_count": null,
   "metadata": {},
   "outputs": [],
   "source": [
    "name = 'Анна'\n",
    "print(name)\n",
    "\n",
    "name = 'Иван'\n",
    "print(name)"
   ]
  },
  {
   "cell_type": "code",
   "execution_count": null,
   "metadata": {},
   "outputs": [],
   "source": [
    "x, y = 10, 20\n",
    "x, y = y, x\n",
    "print(x, y)  # 20 10"
   ]
  },
  {
   "cell_type": "code",
   "execution_count": null,
   "metadata": {},
   "outputs": [],
   "source": [
    "a = 5\n",
    "b = 7\n",
    "sum_ab = a + b\n",
    "print(sum_ab)  # 12"
   ]
  },
  {
   "cell_type": "markdown",
   "metadata": {},
   "source": [
    "## Проверка типа данных объекта\n",
    "\n",
    "Функция isinstance() проверяет принадлежность объекта к типу.\n"
   ]
  },
  {
   "cell_type": "code",
   "execution_count": 19,
   "metadata": {},
   "outputs": [
    {
     "name": "stdout",
     "output_type": "stream",
     "text": [
      "True\n",
      "True\n",
      "False\n"
     ]
    }
   ],
   "source": [
    "temperature = 36.6\n",
    "city = \"Moscow\"\n",
    "\n",
    "print(isinstance(temperature, float))   # True\n",
    "print(isinstance(city, str))    # True\n",
    "print(isinstance(city, int))    # False"
   ]
  },
  {
   "cell_type": "markdown",
   "metadata": {},
   "source": [
    "## Комбинирование разных типов данных в операциях\n",
    "\n",
    "При смешении типов иногда требуется явное преобразование."
   ]
  },
  {
   "cell_type": "code",
   "execution_count": null,
   "metadata": {},
   "outputs": [],
   "source": [
    "age = 30\n",
    "message = \"I am \" + age + \" years old.\"\n",
    "print(message)"
   ]
  },
  {
   "cell_type": "code",
   "execution_count": null,
   "metadata": {},
   "outputs": [],
   "source": [
    "# Cast the variable type\n",
    "message = \"I am \" + str(age) + \" years old.\"\n",
    "print(message)\n"
   ]
  },
  {
   "cell_type": "markdown",
   "metadata": {},
   "source": [
    "## Ввод данных пользователем и проверка их типа\n",
    "\n",
    "Функция input() всегда возвращает строку, преобразование типов часто необходимо."
   ]
  },
  {
   "cell_type": "code",
   "execution_count": 25,
   "metadata": {},
   "outputs": [
    {
     "name": "stdout",
     "output_type": "stream",
     "text": [
      "111\n",
      "<class 'str'>\n"
     ]
    }
   ],
   "source": [
    "user_input = input('Введите число: ')\n",
    "print(user_input)\n",
    "print(type(user_input))"
   ]
  },
  {
   "cell_type": "code",
   "execution_count": 28,
   "metadata": {},
   "outputs": [
    {
     "name": "stdout",
     "output_type": "stream",
     "text": [
      "my number is: 111\n"
     ]
    }
   ],
   "source": [
    "print('my number is: {}'.format(user_input))"
   ]
  },
  {
   "cell_type": "code",
   "execution_count": 29,
   "metadata": {},
   "outputs": [
    {
     "name": "stdout",
     "output_type": "stream",
     "text": [
      "111\n",
      "<class 'int'>\n"
     ]
    }
   ],
   "source": [
    "num = int(user_input)\n",
    "print(num)\n",
    "print(type(num))"
   ]
  },
  {
   "cell_type": "markdown",
   "metadata": {},
   "source": [
    "## Динамическое обновление переменных +=\n",
    "\n",
    "Create a variable and increase its value step-by-step using `+=`."
   ]
  },
  {
   "cell_type": "code",
   "execution_count": null,
   "metadata": {},
   "outputs": [],
   "source": [
    "counter = 0\n",
    "counter += 5\n",
    "counter += 3\n",
    "print(\"Final value:\", counter)"
   ]
  }
 ],
 "metadata": {
  "kernelspec": {
   "display_name": "Python 3",
   "language": "python",
   "name": "python3"
  },
  "language_info": {
   "codemirror_mode": {
    "name": "ipython",
    "version": 3
   },
   "file_extension": ".py",
   "mimetype": "text/x-python",
   "name": "python",
   "nbconvert_exporter": "python",
   "pygments_lexer": "ipython3",
   "version": "3.10.9"
  }
 },
 "nbformat": 4,
 "nbformat_minor": 2
}
