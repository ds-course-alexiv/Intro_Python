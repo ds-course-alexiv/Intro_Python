{
 "cells": [
  {
   "cell_type": "markdown",
   "metadata": {},
   "source": [
    "# Строки\n",
    "\n",
    "**Лекция**\n",
    "\n",
    "1. Строки и работа с ними\n",
    "2. Форматирование\n",
    "3. Конкатенация\n",
    "\n",
    "**Практика** \n",
    "\n",
    "1. Форматирование строк с помощью f-строк \n",
    "2. Конкатенация строк и переменных \n",
    "3. Форматирование чисел в выводе (десятичные, процентные)\n",
    "4. Использование .upper(), .lower(), .strip(), .split()\n",
    "5. Практика с многострочными строками\n",
    "6. Разделение строк\n",
    "7. Подсчет и замена символов\n",
    "\n",
    "\n",
    "**Результаты обучения:**\n",
    "\n",
    "* Применение основных методов обработки и форматирования строк\n",
    "* Знание способов экранирования специальных символов в строках\n",
    "* Использование приёмов среза срок и индесации"
   ]
  },
  {
   "cell_type": "markdown",
   "metadata": {},
   "source": [
    "**Вопросы:**\n",
    "\n",
    "1. Что такое строка ?\n",
    "2. Приведите пример ?\n",
    "3. Как хранятся строки в памяти компьютера ?\n",
    "\n",
    "4. Как часто Data Scitntist работает со строками ?"
   ]
  },
  {
   "cell_type": "markdown",
   "metadata": {},
   "source": [
    "## Основные определения"
   ]
  },
  {
   "cell_type": "markdown",
   "metadata": {},
   "source": [
    "**Строка**(string) – это упорядоченная неизменяемая последовательность символов. \n",
    "\n",
    "Для определения переменной, содержащей постоянный текст, необходимо\tвзять этот текст в одиночные или двойные кавычки:\n",
    "```Python\n",
    "greeting = \"Привет, Миша-байке!\"\n",
    "command = 'Через двести метров поверните налево'\n",
    "```\n",
    "\n",
    "Класс объекта: `<class 'str'>`"
   ]
  },
  {
   "cell_type": "markdown",
   "metadata": {},
   "source": [
    "Тип данных | назначение | Изменяемость | Класс |\tПример\n",
    "--- | --- |  :---: |  :---: |  :---\n",
    "Строка <br>string       |  хранение строковых данных<br> напр. HTML код| нет \t| str   | \"Hello World\" <br>'5'\n",
    " \n",
    "Проверка типа данных произовольной переменной 'x' возможна с помоью команды type(x)"
   ]
  },
  {
   "cell_type": "code",
   "execution_count": null,
   "metadata": {},
   "outputs": [],
   "source": [
    "s = \"fff\"\n",
    "print(type(s)) # <class 'str'>"
   ]
  },
  {
   "cell_type": "markdown",
   "metadata": {},
   "source": [
    "## Печать строк \n",
    "\n",
    "Функция print() позволяет выводить значения переменных в консоль. При этом результат печати форматируют для удобства чтения. Существует несколько способов форматирования строк:\n",
    "* базовый `print('Hello World')`\n",
    "* f-strings  `print(f\"Hello {var}\")`\n",
    "* .format `print(\"Hello {}\".format(\"World\"))`"
   ]
  },
  {
   "cell_type": "code",
   "execution_count": null,
   "metadata": {},
   "outputs": [],
   "source": [
    "world_var = 'World'\n",
    "print('Hello World')\n",
    "print(f\"Hello {world_var}\")\n",
    "print() # вернет пустую строку\n",
    "print(\"Hello {}\".format(\"World\"))"
   ]
  },
  {
   "cell_type": "code",
   "execution_count": null,
   "metadata": {},
   "outputs": [],
   "source": [
    "print(\"\"\"Hello World\"\"\")"
   ]
  },
  {
   "cell_type": "markdown",
   "metadata": {},
   "source": [
    "Аргумент sep: управляет разделителем между несколькими аргументами (по умолчанию — пробел)."
   ]
  },
  {
   "cell_type": "code",
   "execution_count": null,
   "metadata": {},
   "outputs": [],
   "source": [
    "print(\"apple\", \"banana\", \"cherry\")              ## apple banana cherry\n",
    "print(\"apple\", \"banana\", \"cherry\", sep=\", \")    ## apple, banana, cherry"
   ]
  },
  {
   "cell_type": "markdown",
   "metadata": {},
   "source": [
    "Аргумент end: определяет, что печатается в конце вызова print() (по умолчанию — символ новой строки `\\n`). `\\t` - табуляция"
   ]
  },
  {
   "cell_type": "code",
   "execution_count": null,
   "metadata": {},
   "outputs": [],
   "source": [
    "print(\"Hello\", end=\" \")\n",
    "print(\"world!\") # Output: Hello world!\n",
    "print('abc')"
   ]
  },
  {
   "cell_type": "code",
   "execution_count": null,
   "metadata": {},
   "outputs": [],
   "source": [
    "print('Куда, \\tкуда вы удалились, \\nВесны моей златые дни? \\nЧто день грядущий мне готовит? \\nЕго мой взор напрасно ловит..')\n",
    "print(' ')\n",
    "print(\"А.С. Пушкин, \\nАрия Ленского 'Куда, куда вы удалились' из оперы 'Евгений Онегин'\")"
   ]
  },
  {
   "cell_type": "code",
   "execution_count": null,
   "metadata": {},
   "outputs": [],
   "source": [
    "# Экранирование апострофа в строке\n",
    "print(\"My name's Alex\")\n",
    "print('My name\\'s Alex')"
   ]
  },
  {
   "cell_type": "markdown",
   "metadata": {},
   "source": [
    "### Print(var) vs var "
   ]
  },
  {
   "cell_type": "code",
   "execution_count": null,
   "metadata": {},
   "outputs": [],
   "source": [
    "var = 'a'\n",
    "var"
   ]
  },
  {
   "cell_type": "code",
   "execution_count": null,
   "metadata": {},
   "outputs": [],
   "source": [
    "var_2 = 'b'\n",
    "print('Hello World')"
   ]
  },
  {
   "cell_type": "markdown",
   "metadata": {},
   "source": [
    "## [Объединение строк и переменных](https://docs.python.org/3.3/library/string.html#format-examples)\n",
    "\n",
    "В Python строки можно объединять с помощью оператора `+` или f-строк (`f\"\"`). Это позволяет легко соединять текст и переменные."
   ]
  },
  {
   "cell_type": "code",
   "execution_count": null,
   "metadata": {},
   "outputs": [],
   "source": [
    "# объединение через +\n",
    "name = 'Анна'\n",
    "greeting = 'Привет, ' + name\n",
    "print(greeting)"
   ]
  },
  {
   "cell_type": "code",
   "execution_count": null,
   "metadata": {},
   "outputs": [],
   "source": [
    "# объединение через f-строку\n",
    "age = 25\n",
    "info = f'Мне {age} лет.'\n",
    "print(info)"
   ]
  },
  {
   "cell_type": "code",
   "execution_count": null,
   "metadata": {},
   "outputs": [],
   "source": [
    "# объединение нескольких строк\n",
    "city = 'Москва'\n",
    "country = 'Россия'\n",
    "location = city + ', ' + country\n",
    "print(location) ## Москва, Россия"
   ]
  },
  {
   "cell_type": "code",
   "execution_count": null,
   "metadata": {},
   "outputs": [],
   "source": [
    "# объединение нескольких строк c повторением\n",
    "'{0}{1}{0}'.format('абра', 'кад') ## 'абракадабра'"
   ]
  },
  {
   "cell_type": "markdown",
   "metadata": {},
   "source": [
    "### Сложный случай\n",
    "\n",
    "С помощью строк и переменных можно форматировать текст на печати. Например, в виде таблицы. Её границы задаются символами, а ячейки имеют фиксированную ширину."
   ]
  },
  {
   "cell_type": "code",
   "execution_count": null,
   "metadata": {},
   "outputs": [],
   "source": [
    "title = '|  ' + ' {:^52} ' .format( 'Cereal Yields (kg/ha)') + ' |'\n",
    "border_h = '+ ' + '-' *16 + '+' + ( '-' *9 + '+' )*4\n",
    "row = '| {:<14}  | ' + ' {:6,d} | ' *4\n",
    "header = '| {:^15s} | ' .format( 'Country' ) + ( ' {:^6d} | ' * 4).format(1980, 1990,\n",
    "2000, 2010)\n",
    "\n",
    "print(' +' + '-' *(len(title)-2) + '+ ',\n",
    "    title ,\n",
    "    border_h,\n",
    "    header,\n",
    "    border_h,\n",
    "    row.format( 'China', 2937, 4321, 4752, 5527),\n",
    "    row.format( 'Germany', 4225, 5411, 6453, 6718),\n",
    "    row.format( 'United States', 3772, 4755, 5854, 6988),\n",
    "    border_h,\n",
    "sep= ' \\n ' )"
   ]
  },
  {
   "cell_type": "markdown",
   "metadata": {},
   "source": [
    "## [Форматирование чисел при печати](https://docs.python.org/3/tutorial/inputoutput.html)\n",
    " \n",
    "Форматирование позволяет выводить переменные и числа с нужным количеством знаков после запятой или в процентном формате.\n",
    "\n",
    "Форматированный строковый литерал или **f-строка** — это строковый литерал с префиксом 'f' или 'F'. Эти строки могут содержать поля замены, которые являются выражениями, разделенными фигурными скобками { }. В то время как другие строковые литералы всегда имеют постоянное значение, форматированные строки на самом деле являются выражениями, вычисляемыми во время выполнения.\n",
    "\n",
    "[Официальная документация по префиксам](https://docs.python.org/3.3/library/string.html#formatspec)"
   ]
  },
  {
   "cell_type": "code",
   "execution_count": null,
   "metadata": {},
   "outputs": [],
   "source": [
    "import math\n",
    "print('Число Пи приблизительно равно:', math.pi)"
   ]
  },
  {
   "cell_type": "code",
   "execution_count": null,
   "metadata": {},
   "outputs": [],
   "source": [
    "# Отображение десятичного числа с двумя знаками после запятой\n",
    "PI = 3.14159\n",
    "print(f'Число Пи приблизительно равно: {PI:.2f}')\n",
    "print( 'Число Пи приблизительно равно: {:.2f}'.format(PI))"
   ]
  },
  {
   "cell_type": "code",
   "execution_count": null,
   "metadata": {},
   "outputs": [],
   "source": [
    "# отображение со знаком процента\n",
    "progress = 0.051\n",
    "print(f'Выполнено: {progress:.0%}')"
   ]
  },
  {
   "cell_type": "code",
   "execution_count": null,
   "metadata": {},
   "outputs": [],
   "source": [
    "# вывод числа с ведущими нулями\n",
    "number = 7\n",
    "print(f'Число с ведущими нулями: {number:03}')"
   ]
  },
  {
   "cell_type": "code",
   "execution_count": null,
   "metadata": {},
   "outputs": [],
   "source": [
    "# вывод числа в научном формате\n",
    "number = 123400000\n",
    "print('Число в научном формате: {:.2e}'.format(number))\n",
    "print('Число в научном формате: {:.2E}'.format(number))"
   ]
  },
  {
   "cell_type": "markdown",
   "metadata": {},
   "source": [
    "## Работа с многострочными строками\n",
    "\n",
    "Многострочные строки можно создавать с помощью тройных кавычек ''' или \"\"\". Это удобно для хранения больших текстов или вывода форматированного текста."
   ]
  },
  {
   "cell_type": "code",
   "execution_count": null,
   "metadata": {},
   "outputs": [],
   "source": [
    "# создание однострочной строки\n",
    "text = \"\"\"Привет, мир! Это Python.\"\"\"\n",
    "print(text)"
   ]
  },
  {
   "cell_type": "code",
   "execution_count": null,
   "metadata": {},
   "outputs": [],
   "source": [
    "# многострочная строка с одинарными кавычками\n",
    "another_text = '''Это \n",
    "тоже \n",
    "многострочная строка.'''\n",
    "print(another_text)"
   ]
  },
  {
   "cell_type": "code",
   "execution_count": null,
   "metadata": {},
   "outputs": [],
   "source": [
    "# использование переноса строк внутри строки\n",
    "# Плохая реализация\n",
    "message = \"Строка с\\nпереносом\\nстрок\"\n",
    "print(message)\n"
   ]
  },
  {
   "cell_type": "code",
   "execution_count": null,
   "metadata": {},
   "outputs": [],
   "source": [
    "# Хорошая реализация\n",
    "message = \"Строка с\\\n",
    "    \\nпереносом\\\n",
    "    \\nстрок\"\n",
    "print(message)"
   ]
  },
  {
   "cell_type": "markdown",
   "metadata": {},
   "source": [
    "## Методы строк: .upper(), .lower(), .strip(), .split(), .replace()\n"
   ]
  },
  {
   "cell_type": "markdown",
   "metadata": {},
   "source": [
    "\n",
    "### Методы в программировании\n",
    "\n",
    "**Метод** (в объектно-ориентированном программировании) — это функция или процедура, принадлежащая какому-то классу или объекту.\n",
    "\n",
    "Как и процедура в процедурном программировании, метод состоит из некоторого количества операторов для выполнения какого-то действия и имеет набор входных аргументов.\n",
    "\n",
    "**Пример**\n",
    "\n",
    "```python\n",
    "строка.метод(аргумент)\n",
    "```"
   ]
  },
  {
   "cell_type": "markdown",
   "metadata": {},
   "source": [
    "Методы строк позволяют изменять текст без создания новых функций:\n",
    "\n",
    "* `.upper()` — переводит все буквы в верхний регистр;\n",
    "* `.lower()` — переводит в нижний регистр;\n",
    "* `.strip()` — убирает пробелы в начале и конце строки;\n",
    "* `.split()` — разбивает строку на список по разделителю;\n",
    "* `.replace()` - Заменяет все вхождения старой подстроки."
   ]
  },
  {
   "cell_type": "code",
   "execution_count": null,
   "metadata": {},
   "outputs": [],
   "source": [
    "# верхний регистр\n",
    "text = 'привет'\n",
    "print(text.upper())  # ПРИВЕТ"
   ]
  },
  {
   "cell_type": "code",
   "execution_count": null,
   "metadata": {},
   "outputs": [],
   "source": [
    "# нижний регистр\n",
    "text = 'ПРИВЕТ'\n",
    "print(text.lower())  # привет"
   ]
  },
  {
   "cell_type": "code",
   "execution_count": null,
   "metadata": {},
   "outputs": [],
   "source": [
    "# удаление лишних пробелов\n",
    "text = '   привет   '\n",
    "print(text.strip())  # 'привет'"
   ]
  },
  {
   "cell_type": "code",
   "execution_count": null,
   "metadata": {},
   "outputs": [],
   "source": [
    "# разделение строки\n",
    "fruits = 'яблоко,банан,киви'\n",
    "print(fruits.split(sep=','))  # ['яблоко', 'банан', 'киви']"
   ]
  },
  {
   "cell_type": "markdown",
   "metadata": {},
   "source": [
    "Вопрос: что это за скобки ?"
   ]
  },
  {
   "cell_type": "code",
   "execution_count": null,
   "metadata": {},
   "outputs": [],
   "source": [
    "# Замена символов string.replace(old, new)\n",
    "porrige = 'колба'\n",
    "porrige.replace('кол', 'пол')"
   ]
  },
  {
   "cell_type": "markdown",
   "metadata": {},
   "source": [
    "## Подсчет и замена символов. Методы len(), .count(), .replace()\n",
    "\n",
    "* `len(string)` - отображает длину строки\n",
    "* `.count()` подсчитывает количество вхождений подстроки.\n",
    "* `.replace()` заменяет одну подстроку на другую."
   ]
  },
  {
   "cell_type": "code",
   "execution_count": null,
   "metadata": {},
   "outputs": [],
   "source": [
    "# Длина строки\n",
    "my_string = \"Настройка базовой интегрированной среды разработки (IDE)\"\n",
    "print(len(my_string)) # Длина строки составляет 56 символов"
   ]
  },
  {
   "cell_type": "code",
   "execution_count": null,
   "metadata": {},
   "outputs": [],
   "source": [
    "# Посчитайте количество букв 'о' в строке 'молоко'.\n",
    "milk = 'молоко'\n",
    "print(milk.count('о')) # строка содержит три буквы \"о\""
   ]
  },
  {
   "cell_type": "code",
   "execution_count": null,
   "metadata": {},
   "outputs": [],
   "source": [
    "# Замените все 'w' на 'и' в слове 'пwнгwн'.\n",
    "bird = 'пwнгwн'\n",
    "print(bird.replace('w', 'и'))"
   ]
  },
  {
   "cell_type": "code",
   "execution_count": null,
   "metadata": {},
   "outputs": [],
   "source": [
    "# Замените слово 'старый' на 'новый' в фразе.\n",
    "sentence = 'Это старый дом.'\n",
    "print(sentence.replace('старый', 'новый'))"
   ]
  },
  {
   "cell_type": "markdown",
   "metadata": {},
   "source": [
    "## Срезы строк и индексация (slicing)\n",
    " \n",
    "С помощью срезов можно получить часть строки, используя синтаксис [начало:конец:шаг].\n",
    "\n",
    "<p align=\"center\"> <img src=\"./figures/3. String slicing arguments.png\" width=\"400\" > </td>\n",
    "\n",
    "Нумерация индексов начинается с 0.\n",
    "* [0] – 1-й символ\n",
    "* [-1] – последний символ\n",
    "* [ начало : конец : шаг ]\n",
    "* [ : : -1] обратный порядок\n",
    "\n",
    "\n",
    "<p align=\"center\"> <img src=\"./figures/2. String slicing.png\" width=\"600\" > </td>"
   ]
  },
  {
   "cell_type": "code",
   "execution_count": null,
   "metadata": {},
   "outputs": [],
   "source": [
    "# взять первые 5 символов\n",
    "word = 'программирование'\n",
    "print(word[:5])  # 'прогр'"
   ]
  },
  {
   "cell_type": "code",
   "execution_count": null,
   "metadata": {},
   "outputs": [],
   "source": [
    "# взять символы с 5 по 10\n",
    "print(word[5:11])  # 'амми'"
   ]
  },
  {
   "cell_type": "code",
   "execution_count": null,
   "metadata": {},
   "outputs": [],
   "source": [
    "# взять последние 4 символа\n",
    "print(word[-4:])  # 'ние'"
   ]
  },
  {
   "cell_type": "code",
   "execution_count": null,
   "metadata": {},
   "outputs": [],
   "source": [
    "# пропуск символов через один\n",
    "print(word[::2])  # 'прогрмирвание'"
   ]
  },
  {
   "cell_type": "code",
   "execution_count": null,
   "metadata": {},
   "outputs": [],
   "source": [
    "# реверс строк\n",
    "print('еинавримргорп'[::-1])  # 'прогрмирвоие'"
   ]
  }
 ],
 "metadata": {
  "kernelspec": {
   "display_name": "Python 3",
   "language": "python",
   "name": "python3"
  },
  "language_info": {
   "codemirror_mode": {
    "name": "ipython",
    "version": 3
   },
   "file_extension": ".py",
   "mimetype": "text/x-python",
   "name": "python",
   "nbconvert_exporter": "python",
   "pygments_lexer": "ipython3",
   "version": "3.10.9"
  }
 },
 "nbformat": 4,
 "nbformat_minor": 2
}
