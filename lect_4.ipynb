{
 "cells": [
  {
   "cell_type": "markdown",
   "metadata": {},
   "source": [
    "# Встроенные стуктуры данных I: список, кортеж, множество\n",
    "\n",
    "**Лекция**\n",
    "\n",
    "1. Классификация встроенных стуктур данных (data structures) в Python\n",
    "2. Списки\n",
    "3. Котрежи\n",
    "4. Множества\n",
    "\n",
    "**Практика** \n",
    "\n",
    "1.\tСписок, кортеж, множество: \n",
    "    * Создание\n",
    "    * Изменение с помощью вcтроенных методов\n",
    "    * Манипуляции с элементами\n",
    "2.\tПроверка вхождения элемента в список с помощью in\n",
    "3.\tСрезы списка\n",
    "4.\tПреобразование типов\n",
    "\n",
    "\n",
    "\n",
    "**Результаты обучения:**\n",
    "\n",
    "* Изучение основных методов базовых структур данных\n",
    "* Применение оптимальных структур для работы с данными\n",
    "* Знание методов обработки вложенных списков\n",
    "* Преобразования данных между структурами данных"
   ]
  },
  {
   "cell_type": "markdown",
   "metadata": {},
   "source": [
    "**Вопросы:**\n",
    "\n",
    "1. Какие типы данных вы знаете?\n",
    "2. Приведите примеры специальных конструкций для хранения определенных данных. \n",
    "3. В чём их преимущество по сравнению с имеющимися (строки, числа)\n",
    "4. Как исчисляются индексы элементов, например, в строках Python ?"
   ]
  },
  {
   "cell_type": "markdown",
   "metadata": {},
   "source": [
    "### **Классификация встроенных стуктур данных (data structures) в Python**\n",
    "\n",
    "Структура | Когда использовать | Пример\n",
    "--- | --- | --- \n",
    "Cписок ( list )   | изменяемый упорядоченный набор элементов | [ 1, 2, 3 ]\n",
    "Кортеж ( tuple )  | неизменяемый и упорядоченный набор | ( 'a', 'b',  'c' )\n",
    "Множество ( set ) | хранить уникальные элементы без порядка| { 'a', 1, 'b', 2 }\n",
    "Dictioary (словарь) | хранить пары ключ-значение| { '3' **:** 'a', 4 **:** 'b'}\n",
    "\n",
    "[Официальная документация по струкурам данных](https://docs.python.org/3/tutorial/datastructures.html), включая списки, кортежи, словари, и другие.\n",
    "\n",
    "Страничка курса на [Google for Education](https://developers.google.com/edu/python/lists?hl=ru)\n",
    "\n",
    "Проверка типа данных структуры 'x' возможна с помоью команды type(x)"
   ]
  },
  {
   "cell_type": "markdown",
   "metadata": {},
   "source": [
    "# Список"
   ]
  },
  {
   "cell_type": "markdown",
   "metadata": {},
   "source": [
    "**Список** (List) – упорядоченный и изменяемый массив объектов, разделенных запятыми. \n",
    "\n",
    "**Назначение:** Списки используются для хранения упорядоченного набора данных, которые можно изменять.\n",
    "\n",
    "## Обозначение: \n",
    "\n",
    "\n",
    "```Python\n",
    "# в простых квадратных скобках\n",
    "my_list = [1, 2, 3]\n",
    "\n",
    "# или с явным обозначением класса\n",
    "my_list = list([1, 2, 3])\n",
    "```\n"
   ]
  },
  {
   "cell_type": "markdown",
   "metadata": {},
   "source": [
    "Может содержать следующие объекты: строки, числа, другие списки, Boolean"
   ]
  },
  {
   "cell_type": "code",
   "execution_count": null,
   "metadata": {},
   "outputs": [],
   "source": [
    "# Создание списка\n",
    "my_list = ['a', 2, [4,5,6], True]\n",
    "print(my_list) ## ['a', 2, [4, 5, 6], True]"
   ]
  },
  {
   "cell_type": "code",
   "execution_count": null,
   "metadata": {},
   "outputs": [],
   "source": [
    "# объект типа список осносится к классу List\n",
    "print(type(my_list)) # <class 'list'>"
   ]
  },
  {
   "cell_type": "markdown",
   "metadata": {},
   "source": [
    "## Методы списков\n",
    "\n",
    "Cписки Python поставляются с множеством встроенных методов:\n",
    "* `len(l)` - Количество элементов списка\n",
    "\n",
    "* `l.append(x)`- Добавить x в конец списка\n",
    "* `l.clear()` - Удалить все элементы из списка\n",
    "* `l.copy()` - Вернуть поверхностную копию списка l\n",
    "* `l.count(x)` - Подсчитать количество раз, когда x встречается в списке\n",
    "* `l.extend(other)` - Добавить элементы из других\n",
    "* `l.index(x)` - Получить индекс первого вхождения *x*; Ошибка, если x не найден\n",
    "* `l.insert(pos, x)` - Вставить x в позицию\n",
    "* `l.pop([pos])` - Удалить последний элемент из списка (или элемент из pos); Ошибка, если пустой список\n",
    "* `l.remove(x)` - Удалить первое вхождение x;Ошибка, если нет x\n",
    "* `l.reverse(x)` - Обратный переворот списка на месте\n",
    "* `l.sort()` - Сортировка списка на месте"
   ]
  },
  {
   "cell_type": "code",
   "execution_count": null,
   "metadata": {},
   "outputs": [],
   "source": [
    "# Создание списка\n",
    "fruits = ['apple', 'banana', 'orange']\n",
    "len(fruits) ## 3"
   ]
  },
  {
   "cell_type": "code",
   "execution_count": null,
   "metadata": {},
   "outputs": [],
   "source": [
    "# Добавление элемента\n",
    "fruits.append('grape')\n",
    "fruits ## ['apple', 'banana', 'orange', 'grape']"
   ]
  },
  {
   "cell_type": "code",
   "execution_count": null,
   "metadata": {},
   "outputs": [],
   "source": [
    "# Вставка по индексу\n",
    "fruits.insert(1, 'mango')\n",
    "fruits ##['apple', 'mango', 'banana', 'orange', 'grape']"
   ]
  },
  {
   "cell_type": "code",
   "execution_count": null,
   "metadata": {},
   "outputs": [],
   "source": [
    "# Удаление элемента\n",
    "fruits.remove('banana')\n",
    "fruits ## ['apple', 'mango', 'orange', 'grape']"
   ]
  },
  {
   "cell_type": "markdown",
   "metadata": {},
   "source": [
    "### вхождение в список"
   ]
  },
  {
   "cell_type": "code",
   "execution_count": null,
   "metadata": {},
   "outputs": [],
   "source": [
    "# вхождение в спиоск\n",
    "'orange' in fruits ## True"
   ]
  },
  {
   "cell_type": "code",
   "execution_count": null,
   "metadata": {},
   "outputs": [],
   "source": [
    "'grape' in fruits ## False"
   ]
  },
  {
   "cell_type": "code",
   "execution_count": null,
   "metadata": {},
   "outputs": [],
   "source": [
    "users = [6, 18, 4, 7, 8]\n",
    "\n",
    "# Удаление последнего элемента с возвращением\n",
    "least_element = users.pop() # метод не требует аргументов\n",
    "\n",
    "print('Последний элемент списка: ', least_element) ##Последний элемент списка: 8\n",
    "print('Обновленный список: ', users) ## Обновленный список:  [6, 18, 4, 7]"
   ]
  },
  {
   "cell_type": "code",
   "execution_count": null,
   "metadata": {},
   "outputs": [],
   "source": [
    "# опустошение списка\n",
    "least_element = users.pop()\n",
    "print(least_element)"
   ]
  },
  {
   "cell_type": "code",
   "execution_count": null,
   "metadata": {},
   "outputs": [],
   "source": [
    "print('Исходный список: ', fruits) ## ['apple', 'mango', 'orange', 'grape']\n",
    "\n",
    "# Обратный порядок\n",
    "fruits.reverse()\n",
    "print('Развернутый список: ',fruits) ## ['grape', 'orange', 'mango', 'apple']"
   ]
  },
  {
   "cell_type": "markdown",
   "metadata": {},
   "source": [
    "### Сортировка\n",
    "\n",
    "**Вопрос:** всегда ли нужно сортировать список после его изменения?"
   ]
  },
  {
   "cell_type": "code",
   "execution_count": null,
   "metadata": {},
   "outputs": [],
   "source": [
    "labels = ['x', 'z', 'y']\n",
    "# Сортировка\n",
    "labels.sort()\n",
    "labels ## ['x', 'y', 'z']"
   ]
  },
  {
   "cell_type": "code",
   "execution_count": null,
   "metadata": {},
   "outputs": [],
   "source": [
    "# аналогично метод sorted(list)\n",
    "labels = ['x', 'z', 'y']\n",
    "sorted(labels) ## ['x', 'y', 'z']"
   ]
  },
  {
   "cell_type": "code",
   "execution_count": null,
   "metadata": {},
   "outputs": [],
   "source": [
    "labels = sorted(labels)\n",
    "print(labels)\n",
    "# index\n",
    "labels.index('z') ## 2"
   ]
  },
  {
   "cell_type": "code",
   "execution_count": null,
   "metadata": {},
   "outputs": [],
   "source": [
    "labels.index('a') ## ValueError: 'a' is not in list"
   ]
  },
  {
   "cell_type": "markdown",
   "metadata": {},
   "source": [
    "## Индексаця списков\n",
    "\n",
    "Список Может быть индексирован стандартным способом:\n",
    "\n",
    "* [0] – 1-й символ\n",
    "* [-1] – последний символ\n",
    "* [ начало : конец : шаг ]\n",
    "* [ : : -1] обратный порядок\n"
   ]
  },
  {
   "cell_type": "code",
   "execution_count": null,
   "metadata": {},
   "outputs": [],
   "source": [
    "my_list = ['первый', 'второй', 'третий', 'четвертый']\n",
    "print(my_list) ## ['первый', 'эвторой', 'третий', 'четвертый']"
   ]
  },
  {
   "cell_type": "code",
   "execution_count": null,
   "metadata": {},
   "outputs": [],
   "source": [
    "# первый элемент\n",
    "my_list[0]  #'первый'"
   ]
  },
  {
   "cell_type": "code",
   "execution_count": null,
   "metadata": {},
   "outputs": [],
   "source": [
    "# последний элемент\n",
    "my_list[-1] ## 'четвертый'"
   ]
  },
  {
   "cell_type": "markdown",
   "metadata": {},
   "source": [
    "### Вложенные структуры данных \n",
    "\n",
    "Рассмотрим вложенные структры на примере вложенного списка (Nested list)"
   ]
  },
  {
   "cell_type": "code",
   "execution_count": null,
   "metadata": {},
   "outputs": [],
   "source": [
    "my_list = [[1, 2], [3, 4]]\n",
    "\n",
    "# вложенный список\n",
    "my_list[0] # [1, 2]\n"
   ]
  },
  {
   "cell_type": "markdown",
   "metadata": {},
   "source": [
    "## Преимущества списков:\n",
    "\n",
    "* **Гибкость:** \n",
    "\n",
    "    * могут хранить различные типов данных (целые числа, строки, другие списки и т. д.) в одной и той же последовательности.\n",
    "\n",
    "    * Поддерживают изменение элементов (mutable), добавления, удаления элементов\n",
    "    * Динамически изменяют размер в процессе манипуляции с элементами\n",
    "    * Поддерживают дубликаты элементов\n",
    "\n",
    "* **Итерируемость:** Удобство для перебора \n",
    "* **Универсальность:** хранение данных, реализацию алгоритмов (стек, очередь и многое другое)\n",
    "* **Упорядоченность:** списки сохраняют порядок элементов, что позволяет осуществлять доступ по индексу.\n",
    "* **Совместимость** Кросс-платформанная: списки Python можно использовать на разных платформах без изменения кода. \n",
    "* Код и сам список легко читаемы\n",
    "* Легкий доступ к элементам напрямую, используя их индекс\n",
    "* Эффективность использования памяти"
   ]
  },
  {
   "cell_type": "markdown",
   "metadata": {},
   "source": [
    "## Применение списков практике DS:\n",
    "\n",
    "* Перебор значений для последующего преобразования данных в другой формат\n",
    "\n",
    "* Удобство чтения строк\n",
    "\n",
    "```Python\n",
    "# пример из прошлой лекции - разделение строки\n",
    "s = 'яблоко,банан,киви'.split(',')\n",
    "s.sort()\n",
    "s # ['банан', 'киви', 'яблоко']\n",
    "```\n",
    "\n",
    "* Сохранение наборов вероятностей и оценок для сравнения моделей "
   ]
  },
  {
   "cell_type": "markdown",
   "metadata": {},
   "source": [
    "# Кортеж"
   ]
  },
  {
   "cell_type": "markdown",
   "metadata": {},
   "source": [
    "Кортежи — это неизменяемые списки. Используются, когда нужно зафиксировать данные или создать набор ключевых значений (например, координаты, RGB-цвета и т.п.)\n",
    "\n",
    "### Преимущества\n",
    "\n",
    "* Быстрее списков\n",
    "\n",
    "* Защита от случайного изменения данных\n",
    "* допускает повоторения элементов (аналогично спискам)\n",
    "\n",
    "### Обозначение\n",
    "\n",
    "\n",
    "```Python\n",
    "# в простых круглых скобках\n",
    "my_tuple = (1, 2, 3)\n",
    "\n",
    "# или с явным обозначением класса\n",
    "my_list = tuple([1, 2, 3])\n",
    "```"
   ]
  },
  {
   "cell_type": "code",
   "execution_count": null,
   "metadata": {},
   "outputs": [],
   "source": [
    "a = ()                  # пустой кортеж\n",
    "print(a)\n",
    "\n",
    "b = (1,)                # кортеж из одного элемента. обратите внимание на запятую \n",
    "print(b)"
   ]
  },
  {
   "cell_type": "code",
   "execution_count": null,
   "metadata": {},
   "outputs": [],
   "source": [
    "a = (1, 2, 3)           # кортеж из нескольких элементов\n",
    "a = ((1, 2), (3, 4))    # вложенный кортеж\n",
    "a = tuple(['a', 'b'])   # преобразование"
   ]
  },
  {
   "cell_type": "markdown",
   "metadata": {},
   "source": [
    "## Методы кортежей\n",
    "\n",
    "* `count()` - подсчёт вхождений элементов\n",
    "* `index()` - возврящает первый индекс вхождения элемента в кортеж"
   ]
  },
  {
   "cell_type": "code",
   "execution_count": null,
   "metadata": {},
   "outputs": [],
   "source": [
    "t = tuple(['a', 'b', 'c', 'a'])\n",
    "# вхождение элемента\n",
    "print('Количество элементов \"а\": ', t.count('a'))\n",
    "print('Количество элементов \"b\": ', t.count('b'))"
   ]
  },
  {
   "cell_type": "code",
   "execution_count": null,
   "metadata": {},
   "outputs": [],
   "source": [
    "point = (10, 20)\n",
    "\n",
    "# Обращение по индексу\n",
    "print(point[0])  # 10"
   ]
  },
  {
   "cell_type": "code",
   "execution_count": null,
   "metadata": {},
   "outputs": [],
   "source": [
    "# Кортеж из одного элемента\n",
    "one = (42,)  # запятая обязательна"
   ]
  },
  {
   "cell_type": "code",
   "execution_count": null,
   "metadata": {},
   "outputs": [],
   "source": [
    "# Распаковка кортежа\n",
    "x, y = point\n",
    "print(x, y)"
   ]
  },
  {
   "cell_type": "code",
   "execution_count": null,
   "metadata": {},
   "outputs": [],
   "source": [
    "# изменение кортежа\n",
    "my_tuple = (1, 2, 3, 4)\n",
    "\n",
    "# Преобразовать кортеж в список\n",
    "my_list = list(my_tuple)\n",
    "\n",
    "# Изменить список\n",
    "my_list[1] = 20\n",
    "\n",
    "# Преобразовать список обратно в кортеж\n",
    "modified_tuple = tuple(my_list)\n",
    "\n",
    "print(modified_tuple) # Вывод: (1, 20, 3, 4)"
   ]
  },
  {
   "cell_type": "markdown",
   "metadata": {},
   "source": [
    "Кстати, если вам нужно что-то изменить, вам, вероятно, лучше преобразовать кортеж в список."
   ]
  },
  {
   "cell_type": "markdown",
   "metadata": {},
   "source": [
    "## Применение кортежей практике DS:\n",
    "\n",
    "* Работа с неизменяемыми последовательностями: \n",
    "    * координаты\n",
    "    * оптимальных параметров разбиения в древесных алгоритмах (для решающего пня)"
   ]
  },
  {
   "cell_type": "markdown",
   "metadata": {},
   "source": [
    "# Множество"
   ]
  },
  {
   "cell_type": "markdown",
   "metadata": {},
   "source": [
    "Множество (set) — неупорядоченные коллекции уникальных элементов. \n"
   ]
  },
  {
   "cell_type": "markdown",
   "metadata": {},
   "source": [
    "\n",
    "### Диаграмма Венна (Venn diagrams)\n",
    "\n",
    "Диаграмма Венна — схематичное изображение всех возможных отношений (объединение, пересечение, разность, симметрическая разность) нескольких (часто — трёх) подмножеств универсального множества, популяризированный Джоном Венном (1834–1923) в 1880-х годах. \n",
    "\n",
    "Диаграммы используются для обучения элементарной теории множеств и для иллюстрации простых отношений множеств в теории вероятности, логике, статистике, лингвистике и информатике. Диаграмма Венна использует простые замкнутые кривые на плоскости для представления множеств. Кривые часто представляют собой окружности или эллипсы.\n",
    "\n",
    "<p align=\"center\"> <img src=\"./figures/5. Venn diagrams.PNG\" width=\"500\" > </td>\n"
   ]
  },
  {
   "cell_type": "markdown",
   "metadata": {},
   "source": [
    "Ассоциации со словом сет ?\n",
    "\n",
    "<p align=\"center\"> <img src=\"./figures/6. Sushi set.jpg\" width=\"600\" > </td>\n"
   ]
  },
  {
   "cell_type": "markdown",
   "metadata": {},
   "source": [
    "\n",
    "<p align=\"center\"> <img src=\"./figures/4. set.jpg\" width=\"600\" > </td>\n",
    "\n",
    "\n",
    "**Назначение:** Используются для операций: объединение, пересечение, разность, а также для фильтрации дубликатов.\n",
    "\n",
    "### Обозначение:\n",
    "\n",
    "\n",
    "```Python\n",
    "# в простых фигурных скобках\n",
    "my_set = {1, 2, 3}\n",
    "\n",
    "# или с явным обозначением класса\n",
    "my_set = set([1, 2, 3])\n",
    "```\n"
   ]
  },
  {
   "cell_type": "markdown",
   "metadata": {},
   "source": [
    "### Преимущества\n",
    "\n",
    "* Исключают дубликаты автоматически\n",
    "   \n",
    "* Быстрый поиск\n",
    "* Удобны для математических операций\n"
   ]
  },
  {
   "cell_type": "markdown",
   "metadata": {},
   "source": [
    "Класс объекта: set"
   ]
  },
  {
   "cell_type": "code",
   "execution_count": null,
   "metadata": {},
   "outputs": [],
   "source": [
    "print(type({1,2})) # <class 'set'>"
   ]
  },
  {
   "cell_type": "markdown",
   "metadata": {},
   "source": [
    "## Методы множеств\n"
   ]
  },
  {
   "cell_type": "markdown",
   "metadata": {},
   "source": [
    "\n",
    "Метод | Что он делает\n",
    "--- |---\n",
    "`s.add(item)` | Добавить элемент в набор\n",
    "s.remove(item) | Удалить элемент из набора. <br>Вызвает KeyError, если элемент не найден.\n",
    "s.discard(item) | Удалить элемент из набора, если он есть.\n",
    "`s.pop()` | Удалить и вернуть произвольный элемент. <br>Вызваeт KeyError при пустом наборе.\n",
    "s.clear() | Удалить все элементы из набора\n",
    "`s.union(o[, ...])` | Возврат нового набора объединения\n",
    "`s.intersection(o)` | Возврат нового пересечения\n",
    "`s.difference(o)` | Получить чистый набор элементов из s, но недругих (То же, что и set – other)s.copy() | Получить поверхностную копию набора\n",
    "s.isdisjoint(o)  | True, если s не имеет общих элементов с другим набором o\n",
    "s.issubset(o) | То же, что и set <= other\n",
    "s.issuperset(o) | То же, что и set >= other"
   ]
  },
  {
   "cell_type": "code",
   "execution_count": null,
   "metadata": {},
   "outputs": [],
   "source": [
    "# Создание множества\n",
    "colors = {'red', 'green', 'blue'}\n",
    "\n",
    "# Добавление элемента\n",
    "colors.add('yellow')\n",
    "colors ## {'blue', 'green', 'red', 'yellow'}"
   ]
  },
  {
   "cell_type": "markdown",
   "metadata": {},
   "source": [
    "Обратите внимание на разницу в порядке элементов множества"
   ]
  },
  {
   "cell_type": "code",
   "execution_count": null,
   "metadata": {},
   "outputs": [],
   "source": [
    "# Удаление элемента\n",
    "colors.discard('green')\n",
    "colors ## {'blue', 'red', 'yellow'}"
   ]
  },
  {
   "cell_type": "code",
   "execution_count": null,
   "metadata": {},
   "outputs": [],
   "source": [
    "# Объединение двух множеств\n",
    "a = {1, 2, 3}\n",
    "b = {3, 4, 5}\n",
    "print('Объединение:', a.union(b))        # {1, 2, 3, 4, 5}\n",
    "print('Пересечение:', a.intersection(b)) # {3}\n",
    "print('Разница: ', a.difference(b))      # {1, 2}"
   ]
  },
  {
   "cell_type": "code",
   "execution_count": null,
   "metadata": {},
   "outputs": [],
   "source": [
    "# Преобразования типов\n",
    "set(list([2,1,3,1])) ## {1, 2, 3}"
   ]
  },
  {
   "cell_type": "markdown",
   "metadata": {},
   "source": [
    "## Применение множеств практике DS:\n",
    "\n",
    "* фильтрация уникальных элементов из списков \n"
   ]
  },
  {
   "cell_type": "markdown",
   "metadata": {},
   "source": [
    "# Сравнительный анализ базовых структур данных"
   ]
  },
  {
   "cell_type": "markdown",
   "metadata": {},
   "source": [
    "Характеристика      |\tСписок <br>List | Кортеж <br>Tuple | Множество<br>Set\n",
    ":--- | :---: |:---: |:---: \n",
    "Изменяемость\t    |✅ | ❌ | ✅ \n",
    "Упорядоченность\t    |✅ | ✅ | ❌ \n",
    "Уникальность\t    |❌ | ❌ | ✅ \n",
    "Доступ по индексу\t|✅ | ✅ | ❌ \n",
    "Использование\t|Универсальные списки |\tФиксированные наборы |\tУникальные элементы |"
   ]
  },
  {
   "cell_type": "markdown",
   "metadata": {},
   "source": [
    "Может содержать следующие объекты: строки, числа, другие списки, Boolean"
   ]
  }
 ],
 "metadata": {
  "kernelspec": {
   "display_name": "Python 3",
   "language": "python",
   "name": "python3"
  },
  "language_info": {
   "codemirror_mode": {
    "name": "ipython",
    "version": 3
   },
   "file_extension": ".py",
   "mimetype": "text/x-python",
   "name": "python",
   "nbconvert_exporter": "python",
   "pygments_lexer": "ipython3",
   "version": "3.10.9"
  }
 },
 "nbformat": 4,
 "nbformat_minor": 2
}
