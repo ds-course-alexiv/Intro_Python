{
 "cells": [
  {
   "cell_type": "markdown",
   "metadata": {},
   "source": [
    "# Встроенные стуктуры данных II: словарь & list comprehensions\n",
    "\n",
    "**Лекция**\n",
    "\n",
    "1. Классификация встроенных стуктур данных (data structures) в Python\n",
    "2. Словарь\n",
    "3. Задание интервалов чисел (range)\n",
    "4. Основы рефакторинга кода\n",
    "\n",
    "**Практика** \n",
    "\n",
    "1.\tСловарь:\n",
    "    * Создание\n",
    "    * Изменение с помощью вcтроенных методов\n",
    "    * Манипуляции с элементами\n",
    "2.\tПроверка вхождения элемента в словарь с помощью `in`\n",
    "3.\tИтерирование по словарю\n",
    "4.\tПреобразование типов\n",
    "5. list comprehension и dict comprehension\n",
    "\n",
    "\n",
    "**Результаты обучения:**\n",
    "\n",
    "* Знание основных методов базовой структуры словарь\n",
    "* Понимание способов рефакторинга списков и словарей list comprehension\n",
    "* Применение оптимальных структур для работы с данными\n",
    "* Знание методов обработки вложенных списков\n",
    "* Преобразования данных между структурами данных\n",
    "* Применение диапазонов чисел (range)"
   ]
  },
  {
   "cell_type": "markdown",
   "metadata": {},
   "source": [
    "**Вопросы:**\n",
    "\n",
    "1. Какие структуры данных вы знаете?\n",
    "2. Приведите примеры данных и оптимальных структур для них. \n",
    "3. В чём их преимущество по сравнению с имеющимися (строки, числа)\n",
    "4. Что такое вложенность и как с ней работать ?"
   ]
  },
  {
   "cell_type": "markdown",
   "metadata": {},
   "source": [
    "### **Классификация встроенных стуктур данных (data structures) в Python**\n",
    "\n",
    "\n",
    "Структура | Когда использовать | Пример\n",
    "--- | --- | --- \n",
    "Cписок ( list )   | изменяемый упорядоченный набор элементов | [ 1, 2, 3 ]\n",
    "Кортеж ( tuple )  | неизменяемый и упорядоченный набор | ( 'a', 'b',  'c' )\n",
    "Множество ( set ) | хранить уникальные элементы без порядка| { 'a', 1, 'b', 2 }\n",
    "<mark>Dictioary (словарь) </mark>| хранить пары ключ-значение| { '3' **:** 'a', 4 **:** 'b'}</mark>\n",
    "\n",
    "[Официальная документация по струкурам данных](https://docs.python.org/3/tutorial/datastructures.html), включая списки, кортежи, словари, и другие.\n",
    "\n",
    "Проверка типа данных структуры 'x' возможна с помоью команды type(x)"
   ]
  },
  {
   "cell_type": "markdown",
   "metadata": {},
   "source": [
    "# Словарь"
   ]
  },
  {
   "cell_type": "markdown",
   "metadata": {},
   "source": [
    "**Словарь** (Dictionary) – это структура данных, которая позволяет хранить пары \"ключ: значение\". \n",
    "\n",
    "Начиная с версии Python 3.7 ключи словаря возвращаются в порядке вставки.\n",
    "\n",
    "**Назначение:** Словари используются когда нужно быстро найти или изменить данные по определённому ключу, как, например, по имени пользователя, идентификатору или названию.\n",
    "\n",
    "## Обозначение: \n",
    "\n",
    "\n",
    "```Python\n",
    "# в простых фигурных скобках\n",
    "my_dict = {1:'a', 2:'b'}\n",
    "\n",
    "# или с явным обозначением класса\n",
    "my_dict = dict([(1,'a'), (2,'b')]) # по кортежам\n",
    "my_dict = dict(a=1, b=2, c=3)\n",
    "```"
   ]
  },
  {
   "cell_type": "markdown",
   "metadata": {},
   "source": [
    "Класс объекта: dict"
   ]
  },
  {
   "cell_type": "code",
   "execution_count": 17,
   "metadata": {},
   "outputs": [
    {
     "name": "stdout",
     "output_type": "stream",
     "text": [
      "<class 'dict'>\n"
     ]
    }
   ],
   "source": [
    "my_dict = {1:'a', 2:'b'}\n",
    "print(type(my_dict)) # <class 'dict'>"
   ]
  },
  {
   "cell_type": "markdown",
   "metadata": {},
   "source": [
    "## Методы словарей\n",
    "\n",
    "Словари в Python поставляются с множеством встроенных методов:\n",
    "* `d.items()` - Пары (ключ, значение) словаря\n",
    "* `d.keys()` - Ключи словаря\n",
    "* `d.values()` - Значения словаря\n",
    "\n",
    "* `d.clear()` - Удалить все элементы из d\n",
    "* `d.copy()` - Неглубокая копия словаря\n",
    "* `d.get(key[, def])` - Получить значение иначе по умолчанию \n",
    "* `d.pop(key[, def])` - Получить значение иначе по умолчанию; удалить ключ из словаря\n",
    "* `d.popitem()` - Удалить и вернуть последнюю пару (k,v) из словаря\n",
    "* `d.setdefault(k[,def]))` - Если k в dict, вернуть его значение иначе установить def\n",
    "* `d.update(other_d)` - Обновить d парами key:val из других"
   ]
  },
  {
   "cell_type": "code",
   "execution_count": 20,
   "metadata": {},
   "outputs": [
    {
     "name": "stdout",
     "output_type": "stream",
     "text": [
      "Иван\n"
     ]
    }
   ],
   "source": [
    "# Создание словаря\n",
    "person = {'name': 'Иван', 'age': 30, 'city': 'Москва'}\n",
    "\n",
    "# Получить значение по ключу\n",
    "print(person['name'])  # Иван"
   ]
  },
  {
   "cell_type": "markdown",
   "metadata": {},
   "source": [
    "Взать значение по ключу"
   ]
  },
  {
   "cell_type": "code",
   "execution_count": null,
   "metadata": {},
   "outputs": [],
   "source": [
    "# Если ключа не существует в словаре, то метод вернёт ошибку\n",
    "person['xyz']  "
   ]
  },
  {
   "cell_type": "markdown",
   "metadata": {},
   "source": [
    "Важно ли это ?"
   ]
  },
  {
   "cell_type": "code",
   "execution_count": 23,
   "metadata": {},
   "outputs": [
    {
     "name": "stdout",
     "output_type": "stream",
     "text": [
      "None\n"
     ]
    }
   ],
   "source": [
    "# Безопасное получение (если ключа нет — вернёт None)\n",
    "print(person.get('email'))  # None"
   ]
  },
  {
   "cell_type": "code",
   "execution_count": 24,
   "metadata": {},
   "outputs": [
    {
     "name": "stdout",
     "output_type": "stream",
     "text": [
      "{'name': 'Иван', 'age': 30, 'city': 'Москва'}\n",
      "{'name': 'Иван', 'age': 31, 'city': 'Москва'}\n"
     ]
    }
   ],
   "source": [
    "print(person)\n",
    "\n",
    "# Добавить или изменить значение\n",
    "person['age'] = 31\n",
    "print(person)"
   ]
  },
  {
   "cell_type": "code",
   "execution_count": 25,
   "metadata": {},
   "outputs": [
    {
     "name": "stdout",
     "output_type": "stream",
     "text": [
      "{'name': 'Иван', 'age': 31}\n"
     ]
    }
   ],
   "source": [
    "# Удаление по ключу\n",
    "person.pop('city')\n",
    "print(person)"
   ]
  },
  {
   "cell_type": "code",
   "execution_count": 51,
   "metadata": {},
   "outputs": [
    {
     "name": "stdout",
     "output_type": "stream",
     "text": [
      "{'name': 'Иван', 'age': 30, 'city': 'Москва', 'email': 'ivan@mail.ru'}\n"
     ]
    }
   ],
   "source": [
    "# Объединение словарей\n",
    "other = {'email': 'ivan@mail.ru'}\n",
    "person.update(other)\n",
    "\n",
    "print(person)"
   ]
  },
  {
   "cell_type": "markdown",
   "metadata": {},
   "source": [
    "### Вхождение в словарь"
   ]
  },
  {
   "cell_type": "code",
   "execution_count": 53,
   "metadata": {},
   "outputs": [
    {
     "data": {
      "text/plain": [
       "True"
      ]
     },
     "execution_count": 53,
     "metadata": {},
     "output_type": "execute_result"
    }
   ],
   "source": [
    "# вхождение ключа в словарь\n",
    "'email' in person.keys()"
   ]
  },
  {
   "cell_type": "markdown",
   "metadata": {},
   "source": [
    "## Итерирование"
   ]
  },
  {
   "cell_type": "markdown",
   "metadata": {},
   "source": [
    "### Итерирование по словарю"
   ]
  },
  {
   "cell_type": "code",
   "execution_count": 28,
   "metadata": {},
   "outputs": [
    {
     "name": "stdout",
     "output_type": "stream",
     "text": [
      "name\n",
      "age\n",
      "city\n"
     ]
    }
   ],
   "source": [
    "person = {'name': 'Иван', 'age': 30, 'city': 'Москва'}\n",
    "\n",
    "# Перебор ключей\n",
    "for key in person:\n",
    "    print(key)"
   ]
  },
  {
   "cell_type": "code",
   "execution_count": 29,
   "metadata": {},
   "outputs": [
    {
     "name": "stdout",
     "output_type": "stream",
     "text": [
      "Иван\n",
      "30\n",
      "Москва\n"
     ]
    }
   ],
   "source": [
    "# Перебор значений\n",
    "for value in person.values():\n",
    "    print(value)"
   ]
  },
  {
   "cell_type": "code",
   "execution_count": 33,
   "metadata": {},
   "outputs": [
    {
     "name": "stdout",
     "output_type": "stream",
     "text": [
      "name:Иван\n",
      "age:30\n",
      "city:Москва\n"
     ]
    }
   ],
   "source": [
    "# Перебор пар (ключ, значение)\n",
    "for key, value in person.items():\n",
    "    print(f'{key}: {value}')\n"
   ]
  },
  {
   "cell_type": "markdown",
   "metadata": {},
   "source": [
    "### Как итерироваться по спискам, кортежам и множествам?"
   ]
  },
  {
   "cell_type": "code",
   "execution_count": 34,
   "metadata": {},
   "outputs": [
    {
     "name": "stdout",
     "output_type": "stream",
     "text": [
      "apple\n",
      "banana\n",
      "cherry\n"
     ]
    }
   ],
   "source": [
    "fruits = ['apple', 'banana', 'cherry']\n",
    "for fruit in fruits:\n",
    "    print(fruit)"
   ]
  },
  {
   "cell_type": "markdown",
   "metadata": {},
   "source": [
    "## Преимущества словарей\n",
    "\n",
    "* Мгновенный доступ к значению по ключу (O(1))\n",
    "\n",
    "* Гибкая структура: значения могут быть любого типа\n",
    "* Поддерживает изменяемость\n",
    "* Ключи уникальны"
   ]
  },
  {
   "cell_type": "markdown",
   "metadata": {},
   "source": [
    "## Применение словарей практике DS:\n",
    "\n",
    "* Перебор значений для последующего преобразования данных в другой формат (быстрее Pandas DataFrame)\n",
    "\n",
    "* Чтение серийных файлов, моделей"
   ]
  },
  {
   "cell_type": "markdown",
   "metadata": {},
   "source": [
    "# Хеш-таблица \n",
    "\n"
   ]
  },
  {
   "cell_type": "markdown",
   "metadata": {},
   "source": [
    "\n",
    "[Хеш-таблица](https://en.wikipedia.org/wiki/Hash_table) — структура данных, реализующая интерфейс ассоциативного массива, а именно, она позволяет хранить пары (ключ, значение) и выполнять три операции: операцию добавления новой пары, операцию удаления и операцию поиска пары по ключу.\n",
    "\n",
    "Иными словами словарь - Хеш-таблица  (hash-map).\n",
    "\n",
    "\n",
    "<p align=\"center\"> <img src=\"../figures/7.hash map.jpg\" width=\"600\" > </p>\n"
   ]
  },
  {
   "cell_type": "markdown",
   "metadata": {},
   "source": [
    "# Дипазоны\n",
    "\n",
    "[Официальная документация по диапазонам](https://docs.python.org/3/library/stdtypes.html#range)\n",
    "\n",
    "Объявление класса: ***range(start, stop[, step])***"
   ]
  },
  {
   "cell_type": "code",
   "execution_count": 39,
   "metadata": {},
   "outputs": [
    {
     "data": {
      "text/plain": [
       "range(0, 3)"
      ]
     },
     "execution_count": 39,
     "metadata": {},
     "output_type": "execute_result"
    }
   ],
   "source": [
    "# диапазон\n",
    "range(3)"
   ]
  },
  {
   "cell_type": "code",
   "execution_count": 49,
   "metadata": {},
   "outputs": [
    {
     "data": {
      "text/plain": [
       "range"
      ]
     },
     "execution_count": 49,
     "metadata": {},
     "output_type": "execute_result"
    }
   ],
   "source": [
    "type(range(3))"
   ]
  },
  {
   "cell_type": "code",
   "execution_count": 40,
   "metadata": {},
   "outputs": [
    {
     "data": {
      "text/plain": [
       "[0, 1, 2, 3, 4, 5, 6, 7, 8, 9]"
      ]
     },
     "execution_count": 40,
     "metadata": {},
     "output_type": "execute_result"
    }
   ],
   "source": [
    "# Создание списка из 10 целых чисел\n",
    "list(range(10))"
   ]
  },
  {
   "cell_type": "code",
   "execution_count": 48,
   "metadata": {},
   "outputs": [
    {
     "data": {
      "text/plain": [
       "[0, 2, 4, 6, 8]"
      ]
     },
     "execution_count": 48,
     "metadata": {},
     "output_type": "execute_result"
    }
   ],
   "source": [
    "# диапазон с шагом\n",
    "list(range(0, 10, 2))"
   ]
  },
  {
   "cell_type": "code",
   "execution_count": 45,
   "metadata": {},
   "outputs": [
    {
     "data": {
      "text/plain": [
       "[0, -1, -2, -3, -4, -5, -6, -7, -8, -9]"
      ]
     },
     "execution_count": 45,
     "metadata": {},
     "output_type": "execute_result"
    }
   ],
   "source": [
    "# диапазон с умньшением\n",
    "list(range(0, -10, -1))"
   ]
  },
  {
   "cell_type": "markdown",
   "metadata": {},
   "source": [
    "# Основы рефакторинга \n"
   ]
  },
  {
   "cell_type": "markdown",
   "metadata": {},
   "source": [
    "Рефакторинг (англ. refactoring) — процесс изменения внутренней структуры программы, не затрагивающий её внешнего поведения и имеющий целью облегчить понимание её работы. \n",
    "\n",
    "В основе рефакторинга лежит последовательность небольших эквивалентных (то есть сохраняющих поведение) преобразований. Поскольку каждое преобразование маленькое, программисту легче проследить за его правильностью, и в то же время вся последовательность может привести к существенной перестройке программы и улучшению её согласованности и чёткости."
   ]
  },
  {
   "cell_type": "markdown",
   "metadata": {},
   "source": [
    "## List comprehesions"
   ]
  },
  {
   "cell_type": "code",
   "execution_count": 37,
   "metadata": {},
   "outputs": [
    {
     "data": {
      "text/plain": [
       "range(0, 3)"
      ]
     },
     "execution_count": 37,
     "metadata": {},
     "output_type": "execute_result"
    }
   ],
   "source": [
    "# диапазон\n",
    "range(3)"
   ]
  },
  {
   "cell_type": "code",
   "execution_count": 41,
   "metadata": {},
   "outputs": [
    {
     "data": {
      "text/plain": [
       "[0, 1, 2]"
      ]
     },
     "execution_count": 41,
     "metadata": {},
     "output_type": "execute_result"
    }
   ],
   "source": [
    "# list comprehension\n",
    "[i for i in range(3)]"
   ]
  },
  {
   "cell_type": "code",
   "execution_count": 42,
   "metadata": {},
   "outputs": [
    {
     "data": {
      "text/plain": [
       "[0, 1, 2, 3, 4, '5', '6', '7', '8', '9']"
      ]
     },
     "execution_count": 42,
     "metadata": {},
     "output_type": "execute_result"
    }
   ],
   "source": [
    "# list comprehension + conditionals\n",
    "[i if i < 5 else str(i) for i in range(10)]"
   ]
  },
  {
   "cell_type": "markdown",
   "metadata": {},
   "source": [
    "####  Как преобразовать матрицу в строку через генератор списков? (flatten)\n",
    "\n",
    "Матрица — это список списков. \"Расплющивание\" превращает её в один длинный список."
   ]
  },
  {
   "cell_type": "code",
   "execution_count": null,
   "metadata": {},
   "outputs": [],
   "source": [
    "matrix = [\n",
    "    [1, 2, 3],\n",
    "    [4, 5, 6],\n",
    "    [7, 8, 9]\n",
    "]\n",
    "\n",
    "# Расплющивание (flatten)\n",
    "flattened = [element for row in matrix for element in row]\n",
    "print(flattened)  # [1, 2, 3, 4, 5, 6, 7, 8, 9]"
   ]
  },
  {
   "cell_type": "markdown",
   "metadata": {},
   "source": [
    "## Dict comprehesions"
   ]
  },
  {
   "cell_type": "code",
   "execution_count": 38,
   "metadata": {},
   "outputs": [
    {
     "data": {
      "text/plain": [
       "{2: 4, 4: 16, 6: 36}"
      ]
     },
     "execution_count": 38,
     "metadata": {},
     "output_type": "execute_result"
    }
   ],
   "source": [
    "my_dict = dict() # пустой словарь\n",
    "\n",
    "for x in (2, 4, 6):\n",
    "    my_dict[x] = x**2  \n",
    "    \n",
    "my_dict"
   ]
  },
  {
   "cell_type": "code",
   "execution_count": null,
   "metadata": {},
   "outputs": [
    {
     "data": {
      "text/plain": [
       "{2: 4, 4: 16, 6: 36}"
      ]
     },
     "execution_count": 14,
     "metadata": {},
     "output_type": "execute_result"
    }
   ],
   "source": [
    "{x: x**2 for x in (2, 4, 6)}"
   ]
  },
  {
   "cell_type": "markdown",
   "metadata": {},
   "source": [
    "# Сравнительный анализ базовых структур данных"
   ]
  },
  {
   "cell_type": "markdown",
   "metadata": {},
   "source": [
    "Характеристика      |\tСписок <br>List | Кортеж <br>Tuple | Множество<br>Set | Словарь <br>Dictionary\n",
    ":--- | :---: |:---: |:---:  |:---: \n",
    "Изменяемость\t    |✅ | ❌ | ✅ | ✅ \n",
    "Упорядоченность\t    |✅ | ✅ | ❌ | ❌\n",
    "Уникальность\t    |❌ | ❌ | ✅ | ✅ \n",
    "Доступ по индексу\t|✅ | ✅ | ❌ | ✅ \n",
    "Использование\t|Универсальные списки |\tФиксированные наборы |\tУникальные элементы | Быстрый доступ по ключу"
   ]
  }
 ],
 "metadata": {
  "kernelspec": {
   "display_name": "Python 3",
   "language": "python",
   "name": "python3"
  },
  "language_info": {
   "codemirror_mode": {
    "name": "ipython",
    "version": 3
   },
   "file_extension": ".py",
   "mimetype": "text/x-python",
   "name": "python",
   "nbconvert_exporter": "python",
   "pygments_lexer": "ipython3",
   "version": "3.10.9"
  }
 },
 "nbformat": 4,
 "nbformat_minor": 2
}
