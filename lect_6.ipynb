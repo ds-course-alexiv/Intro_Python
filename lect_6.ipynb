{
 "cells": [
  {
   "cell_type": "markdown",
   "metadata": {},
   "source": [
    "# Булева логика и операторы сравнения\n",
    "\n",
    "**Лекция**\n",
    "\n",
    "1. операторы сравнения \"символьные\" и \"буквенные\"\n",
    "2. Основы булевой алгебры (Boolean Algebra)\n",
    "\n",
    "**Практика** \n",
    "\n",
    "1. Сравнения строк, списков, переменных\n",
    "2. булева логика\n",
    "3. Использование all() и any()\n",
    "4. цепочки сравнений\n",
    "\n",
    "**Результаты обучения:**\n",
    "* знание основ булевой алгебры\n",
    "* Применение операторов сравнения"
   ]
  },
  {
   "cell_type": "markdown",
   "metadata": {},
   "source": [
    "**Вопросы:**\n",
    "\n",
    "1. Приведите пример сравнения переменных. \n",
    "2. Какие значения возможны при сравнении ?"
   ]
  },
  {
   "cell_type": "markdown",
   "metadata": {},
   "source": [
    "## Truthiness (Истинность значений)"
   ]
  },
  {
   "cell_type": "markdown",
   "metadata": {},
   "source": [
    "В Python каждое значение может быть оценено как истинное (truthy) или ложное (falsey) в булевом контексте."
   ]
  },
  {
   "cell_type": "code",
   "execution_count": 1,
   "metadata": {},
   "outputs": [
    {
     "name": "stdout",
     "output_type": "stream",
     "text": [
      "False\n",
      "True\n",
      "False\n",
      "True\n"
     ]
    }
   ],
   "source": [
    "# Falsey значения: False, 0, \"\", [], (), {}, None\n",
    "# Все остальные значения считаются Truthy\n",
    "\n",
    "print(bool(0))      # False\n",
    "print(bool(\"hello\")) # True\n",
    "print(bool([]))      # False\n",
    "print(bool([1, 2]))  # True"
   ]
  },
  {
   "cell_type": "markdown",
   "metadata": {},
   "source": [
    "## Логические операторы (and, or, not)"
   ]
  },
  {
   "cell_type": "markdown",
   "metadata": {},
   "source": [
    "Логические операторы используются для комбинирования булевых значений."
   ]
  },
  {
   "cell_type": "code",
   "execution_count": null,
   "metadata": {},
   "outputs": [],
   "source": [
    "print(True and False)  # False\n",
    "print(True or False)   # True\n",
    "print(not True)        # False"
   ]
  },
  {
   "cell_type": "markdown",
   "metadata": {},
   "source": [
    "# Основы булевой алгебры (Boolean Algebra)"
   ]
  },
  {
   "cell_type": "markdown",
   "metadata": {},
   "source": [
    "[Алгебра логики](https://ru.wikipedia.org/wiki/%D0%90%D0%BB%D0%B3%D0%B5%D0%B1%D1%80%D0%B0_%D0%BB%D0%BE%D0%B3%D0%B8%D0%BA%D0%B8) — раздел математической логики, в котором изучаются логические операции над высказываниями. Обычно используется двоичная (бинарная) логика (высказывания: истинна или ложь). \n",
    "\n",
    "Основоположником её является Дж. Буль, английский математик и логик, положивший в основу своего логического учения аналогию между алгеброй и логикой. Алгебра логики стала первой системой математической логики, в которой алгебраическая символика стала применяться к логическим выводам в операциях с понятиями, рассматриваемыми со стороны их объёмов. Буль ставил перед собой задачу решить логические задачи с помощью методов, применяемых в алгебре. Любое суждение он пытался выразить в виде уравнений с символами, в которых действуют логические законы, подобные законам алгебры.\n",
    "\n",
    "Булевой алгеброй называется непустое множество A с двумя бинарными операциями: \n",
    "* $\\land$ - аналог конъюнкции (или оператор $AND$)  \n",
    "* $\\lor$ - аналог дизъюнкции (или оператор $OR$)  \n",
    "* $\\lnot$ - отрицание (унарная операция)\n",
    "* двумя выделенными элементами: 0 (или Ложь) и 1 (или Истина) такими, что для любых a, b и c из множества A верны следующие аксиомы:"
   ]
  },
  {
   "cell_type": "markdown",
   "metadata": {},
   "source": [
    "Самая простая нетривиальная булева алгебра содержит всего два элемента, 0 и 1, а действия в ней определяются следующей таблицей:\n",
    "\n",
    "<table><tr><td><div align=\"center\" style=\"width:150px\"> \n",
    "\n",
    " $\\land$ | 0 | 1\n",
    ":---: | :---: | :---: \n",
    "**0** | 0 | 0\n",
    "**1** | 0 | 1\n",
    "</div>\n",
    "</td><td><div align=\"center\" style=\"width:150px\"> \n",
    "\n",
    " $\\lor$ | 0 | 1\n",
    ":---: | :---: | :---: \n",
    "**0** | 0 | 1\n",
    "**1** | 1 | 1\n",
    "\n",
    "</div></td></tr> </table>\n"
   ]
  },
  {
   "cell_type": "code",
   "execution_count": 7,
   "metadata": {},
   "outputs": [
    {
     "name": "stdout",
     "output_type": "stream",
     "text": [
      "False\n",
      "False\n",
      "True\n"
     ]
    }
   ],
   "source": [
    "# Законы Де Моргана\n",
    "x, y = True, False\n",
    "print(x and y)  # False\n",
    "print(y and y)  # False\n",
    "print(x or y)   # True"
   ]
  },
  {
   "cell_type": "markdown",
   "metadata": {},
   "source": [
    "# Cравнения"
   ]
  },
  {
   "cell_type": "markdown",
   "metadata": {},
   "source": [
    "## 1. Операторы сравнения (==, !=, <, >, <=, >=)"
   ]
  },
  {
   "cell_type": "markdown",
   "metadata": {},
   "source": [
    "Операторы сравнения возвращают булевы значения."
   ]
  },
  {
   "cell_type": "code",
   "execution_count": null,
   "metadata": {},
   "outputs": [],
   "source": [
    "print(5 == 5)   # True\n",
    "print(5 != 3)   # True\n",
    "print(3 < 5)    # True\n",
    "print(10 >= 10) # True"
   ]
  },
  {
   "cell_type": "code",
   "execution_count": null,
   "metadata": {},
   "outputs": [],
   "source": [
    "# Сравнение чисел\n",
    "a = 10\n",
    "b = 20\n",
    "print(a == b)  # False\n",
    "print(a <= b)  # True\n",
    "\n",
    "# Сравнение разных типов\n",
    "print(5 == 5.0)  # True (значения равны)\n",
    "print(5 == \"5\")  # False (разные типы)"
   ]
  },
  {
   "cell_type": "markdown",
   "metadata": {},
   "source": [
    "## 2. Использование and, or, not"
   ]
  },
  {
   "cell_type": "code",
   "execution_count": 8,
   "metadata": {},
   "outputs": [
    {
     "name": "stdout",
     "output_type": "stream",
     "text": [
      "True\n",
      "True\n"
     ]
    }
   ],
   "source": [
    "age = 25\n",
    "has_license = True\n",
    "\n",
    "# Можно водить машину?\n",
    "can_drive = age >= 18 and has_license\n",
    "print(can_drive)  # True\n",
    "\n",
    "# Логическое отрицание\n",
    "is_raining = False\n",
    "print(not is_raining)  # True"
   ]
  },
  {
   "cell_type": "markdown",
   "metadata": {},
   "source": [
    "## 3. Сравнение строк"
   ]
  },
  {
   "cell_type": "code",
   "execution_count": null,
   "metadata": {},
   "outputs": [],
   "source": [
    "name1 = \"Alice\"\n",
    "name2 = \"Bob\"\n",
    "\n",
    "print(name1 == name2)  # False\n",
    "print(name1 < name2)   # True (лексикографическое сравнение)\n",
    "print(\"apple\" > \"banana\")  # False"
   ]
  },
  {
   "cell_type": "markdown",
   "metadata": {},
   "source": [
    "## 4. Сравнение списков и переменных"
   ]
  },
  {
   "cell_type": "code",
   "execution_count": null,
   "metadata": {},
   "outputs": [],
   "source": [
    "list1 = [1, 2, 3]\n",
    "list2 = [1, 2, 3]\n",
    "list3 = list1\n",
    "\n",
    "print(list1 == list2)  # True (содержимое одинаковое)\n",
    "print(list1 is list2)  # False (разные объекты)\n",
    "print(list1 is list3)  # True (один и тот же объект)"
   ]
  },
  {
   "cell_type": "markdown",
   "metadata": {},
   "source": [
    "## 5. Булева логика в if-условиях"
   ]
  },
  {
   "cell_type": "code",
   "execution_count": null,
   "metadata": {},
   "outputs": [
    {
     "name": "stdout",
     "output_type": "stream",
     "text": [
      "Можно идти в шортах\n"
     ]
    }
   ],
   "source": [
    "temperature = 22\n",
    "is_summer = True\n",
    "\n",
    "if temperature > 25 or is_summer:\n",
    "    print(\"Пойду в шортах\")\n",
    "elif temperature > 15 and not is_summer:\n",
    "    print(\"Одену джинсы\")\n",
    "else:\n",
    "    print(\"Оденусь потеплее\")"
   ]
  },
  {
   "cell_type": "markdown",
   "metadata": {},
   "source": [
    "## 6. Использование all() и any()"
   ]
  },
  {
   "cell_type": "code",
   "execution_count": 10,
   "metadata": {},
   "outputs": [
    {
     "name": "stdout",
     "output_type": "stream",
     "text": [
      "True\n",
      "True\n"
     ]
    }
   ],
   "source": [
    "numbers = [2, 4, 6, 8, 10]\n",
    "\n",
    "# Все ли числа четные?\n",
    "print(all(n % 2 == 0 for n in numbers))  # True\n",
    "\n",
    "# Есть ли хотя бы одно число больше 5?\n",
    "print(any(n > 5 for n in numbers))  # True"
   ]
  },
  {
   "cell_type": "markdown",
   "metadata": {},
   "source": [
    "## 7. Цепочки сравнений"
   ]
  },
  {
   "cell_type": "code",
   "execution_count": null,
   "metadata": {},
   "outputs": [],
   "source": [
    "x = 5\n",
    "print(1 < x < 10)  # True (эквивалентно 1 < x and x < 10)"
   ]
  },
  {
   "cell_type": "markdown",
   "metadata": {},
   "source": [
    "##  Проверка значения на правда/ложь"
   ]
  },
  {
   "cell_type": "code",
   "execution_count": 12,
   "metadata": {},
   "outputs": [
    {
     "name": "stdout",
     "output_type": "stream",
     "text": [
      "0 ложь\n",
      "1 правда\n",
      " ложь\n",
      "hello правда\n",
      "[] ложь\n",
      "[1, 2] правда\n",
      "None ложь\n"
     ]
    }
   ],
   "source": [
    "values = [0, 1, \"\", \"hello\", [], [1, 2], None]\n",
    "\n",
    "for val in values:\n",
    "    if val:\n",
    "        print(f\"{val} правда\")\n",
    "    else:\n",
    "        print(f\"{val} ложь\")"
   ]
  }
 ],
 "metadata": {
  "kernelspec": {
   "display_name": "Python 3",
   "language": "python",
   "name": "python3"
  },
  "language_info": {
   "codemirror_mode": {
    "name": "ipython",
    "version": 3
   },
   "file_extension": ".py",
   "mimetype": "text/x-python",
   "name": "python",
   "nbconvert_exporter": "python",
   "pygments_lexer": "ipython3",
   "version": "3.10.9"
  }
 },
 "nbformat": 4,
 "nbformat_minor": 2
}
